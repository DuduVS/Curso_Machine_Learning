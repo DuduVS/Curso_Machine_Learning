{
  "nbformat": 4,
  "nbformat_minor": 0,
  "metadata": {
    "colab": {
      "name": "spotify_popularity_regression.ipynb",
      "provenance": [],
      "collapsed_sections": [
        "NhkhEZ6_OfRf",
        "RnEw5sjJK51H",
        "jZvD4J97LPwC",
        "g3OqI489MY-N"
      ],
      "authorship_tag": "ABX9TyMvIeay9GiQBEdJCW/0mi51",
      "include_colab_link": true
    },
    "kernelspec": {
      "name": "python3",
      "display_name": "Python 3"
    }
  },
  "cells": [
    {
      "cell_type": "markdown",
      "metadata": {
        "id": "view-in-github",
        "colab_type": "text"
      },
      "source": [
        "<a href=\"https://colab.research.google.com/github/DuduVS/Curso_Machine_Learning/blob/master/spotify_popularity_regression.ipynb\" target=\"_parent\"><img src=\"https://colab.research.google.com/assets/colab-badge.svg\" alt=\"Open In Colab\"/></a>"
      ]
    },
    {
      "cell_type": "markdown",
      "metadata": {
        "id": "9WQ2ejr-YHyh",
        "colab_type": "text"
      },
      "source": [
        "# Setup"
      ]
    },
    {
      "cell_type": "code",
      "metadata": {
        "id": "lwdVxr5L4ofT",
        "colab_type": "code",
        "colab": {
          "base_uri": "https://localhost:8080/",
          "height": 35
        },
        "outputId": "04f8c3c3-b568-4d6f-8363-681157241505"
      },
      "source": [
        "from google.colab import drive\n",
        "drive.mount('/content/drive/')"
      ],
      "execution_count": 1,
      "outputs": [
        {
          "output_type": "stream",
          "text": [
            "Mounted at /content/drive/\n"
          ],
          "name": "stdout"
        }
      ]
    },
    {
      "cell_type": "code",
      "metadata": {
        "id": "J92Trk3l4tKC",
        "colab_type": "code",
        "colab": {}
      },
      "source": [
        "import pandas as pd\n",
        "import matplotlib.pyplot as plt\n",
        "import seaborn as sns\n",
        "from sklearn.linear_model import LinearRegression\n",
        "from sklearn.tree import DecisionTreeRegressor\n",
        "from sklearn.ensemble import RandomForestRegressor\n",
        "from sklearn.neural_network import MLPRegressor\n",
        "from sklearn.model_selection import train_test_split"
      ],
      "execution_count": 16,
      "outputs": []
    },
    {
      "cell_type": "markdown",
      "metadata": {
        "id": "NhkhEZ6_OfRf",
        "colab_type": "text"
      },
      "source": [
        "# Dataset"
      ]
    },
    {
      "cell_type": "code",
      "metadata": {
        "id": "c_RlRtJ24tHo",
        "colab_type": "code",
        "colab": {}
      },
      "source": [
        "data = pd.read_csv('/content/drive/My Drive/Curso - ML/datasets/top10s.csv', encoding='ISO-8859-1')"
      ],
      "execution_count": 81,
      "outputs": []
    },
    {
      "cell_type": "markdown",
      "metadata": {
        "id": "FUiXSBcKvOdO",
        "colab_type": "text"
      },
      "source": [
        "Source: https://www.kaggle.com/leonardopena/top-spotify-songs-from-20102019-by-year\n",
        "\n",
        "Dataset: top songs do spotify de 2010-2019.\n",
        "\n",
        "Objetivo: tentar entender quais características afetam a popularidade de uma música.\n",
        "\n",
        "\n",
        "Sobre o dataset:\n",
        "\n",
        "    Genre - the genre of the track\n",
        "    Year - the release year of the recording.\n",
        "    Added - the earliest date you added the track to your collection.\n",
        "    Beats Per Minute (BPM) - The tempo of the song.\n",
        "    Energy - The energy of a song - the higher the value, the more energtic the song.\n",
        "    Danceability - The higher the value, the easier it is to dance to this song.\n",
        "    Loudness (dB) - The higher the value, the louder the song.\n",
        "    Liveness - The higher the value, the more likely the song is a live recording.\n",
        "    Valence - The higher the value, the more positive mood for the song.\n",
        "    Length - The duration of the song.\n",
        "    Acousticness - The higher the value the more acoustic the song is.\n",
        "    Speechiness - The higher the value the more spoken word the song contains.\n",
        "    Popularity - The higher the value the more popular the song is.\n",
        "    Duration - The length of the song.\n",
        "\n"
      ]
    },
    {
      "cell_type": "code",
      "metadata": {
        "id": "flmztNv_Lexn",
        "colab_type": "code",
        "colab": {
          "base_uri": "https://localhost:8080/",
          "height": 0
        },
        "outputId": "ddf47eb3-0ab3-4cb5-8b4f-55a07328c7d9"
      },
      "source": [
        "data.info()"
      ],
      "execution_count": 82,
      "outputs": [
        {
          "output_type": "stream",
          "text": [
            "<class 'pandas.core.frame.DataFrame'>\n",
            "RangeIndex: 603 entries, 0 to 602\n",
            "Data columns (total 15 columns):\n",
            " #   Column      Non-Null Count  Dtype \n",
            "---  ------      --------------  ----- \n",
            " 0   Unnamed: 0  603 non-null    int64 \n",
            " 1   title       603 non-null    object\n",
            " 2   artist      603 non-null    object\n",
            " 3   top genre   603 non-null    object\n",
            " 4   year        603 non-null    int64 \n",
            " 5   bpm         603 non-null    int64 \n",
            " 6   nrgy        603 non-null    int64 \n",
            " 7   dnce        603 non-null    int64 \n",
            " 8   dB          603 non-null    int64 \n",
            " 9   live        603 non-null    int64 \n",
            " 10  val         603 non-null    int64 \n",
            " 11  dur         603 non-null    int64 \n",
            " 12  acous       603 non-null    int64 \n",
            " 13  spch        603 non-null    int64 \n",
            " 14  pop         603 non-null    int64 \n",
            "dtypes: int64(12), object(3)\n",
            "memory usage: 70.8+ KB\n"
          ],
          "name": "stdout"
        }
      ]
    },
    {
      "cell_type": "markdown",
      "metadata": {
        "id": "RnEw5sjJK51H",
        "colab_type": "text"
      },
      "source": [
        "# Pré-análise"
      ]
    },
    {
      "cell_type": "markdown",
      "metadata": {
        "id": "6d7xm78FMGd9",
        "colab_type": "text"
      },
      "source": [
        "Renomeação dos atributos."
      ]
    },
    {
      "cell_type": "code",
      "metadata": {
        "id": "j2pQbqqh5QWG",
        "colab_type": "code",
        "colab": {}
      },
      "source": [
        "data.rename(columns={'Unnamed: 0': 'id', 'top genre':'genre', 'nrgy':'energy', 'dnce':'danceability', \n",
        "                     'dB':'loudness', 'val':'valence', 'dur':'length', 'acous':'acousticness',\n",
        "                     'spch':'speechiness','pop':'popularity'}, inplace=True)"
      ],
      "execution_count": 83,
      "outputs": []
    },
    {
      "cell_type": "code",
      "metadata": {
        "id": "5J7zUZHU4tF3",
        "colab_type": "code",
        "colab": {
          "base_uri": "https://localhost:8080/",
          "height": 0
        },
        "outputId": "b6da09c4-a143-4547-f021-27ccc42f30ca"
      },
      "source": [
        "data.head(10)"
      ],
      "execution_count": 84,
      "outputs": [
        {
          "output_type": "execute_result",
          "data": {
            "text/html": [
              "<div>\n",
              "<style scoped>\n",
              "    .dataframe tbody tr th:only-of-type {\n",
              "        vertical-align: middle;\n",
              "    }\n",
              "\n",
              "    .dataframe tbody tr th {\n",
              "        vertical-align: top;\n",
              "    }\n",
              "\n",
              "    .dataframe thead th {\n",
              "        text-align: right;\n",
              "    }\n",
              "</style>\n",
              "<table border=\"1\" class=\"dataframe\">\n",
              "  <thead>\n",
              "    <tr style=\"text-align: right;\">\n",
              "      <th></th>\n",
              "      <th>id</th>\n",
              "      <th>title</th>\n",
              "      <th>artist</th>\n",
              "      <th>genre</th>\n",
              "      <th>year</th>\n",
              "      <th>bpm</th>\n",
              "      <th>energy</th>\n",
              "      <th>danceability</th>\n",
              "      <th>loudness</th>\n",
              "      <th>live</th>\n",
              "      <th>valence</th>\n",
              "      <th>length</th>\n",
              "      <th>acousticness</th>\n",
              "      <th>speechiness</th>\n",
              "      <th>popularity</th>\n",
              "    </tr>\n",
              "  </thead>\n",
              "  <tbody>\n",
              "    <tr>\n",
              "      <th>0</th>\n",
              "      <td>1</td>\n",
              "      <td>Hey, Soul Sister</td>\n",
              "      <td>Train</td>\n",
              "      <td>neo mellow</td>\n",
              "      <td>2010</td>\n",
              "      <td>97</td>\n",
              "      <td>89</td>\n",
              "      <td>67</td>\n",
              "      <td>-4</td>\n",
              "      <td>8</td>\n",
              "      <td>80</td>\n",
              "      <td>217</td>\n",
              "      <td>19</td>\n",
              "      <td>4</td>\n",
              "      <td>83</td>\n",
              "    </tr>\n",
              "    <tr>\n",
              "      <th>1</th>\n",
              "      <td>2</td>\n",
              "      <td>Love The Way You Lie</td>\n",
              "      <td>Eminem</td>\n",
              "      <td>detroit hip hop</td>\n",
              "      <td>2010</td>\n",
              "      <td>87</td>\n",
              "      <td>93</td>\n",
              "      <td>75</td>\n",
              "      <td>-5</td>\n",
              "      <td>52</td>\n",
              "      <td>64</td>\n",
              "      <td>263</td>\n",
              "      <td>24</td>\n",
              "      <td>23</td>\n",
              "      <td>82</td>\n",
              "    </tr>\n",
              "    <tr>\n",
              "      <th>2</th>\n",
              "      <td>3</td>\n",
              "      <td>TiK ToK</td>\n",
              "      <td>Kesha</td>\n",
              "      <td>dance pop</td>\n",
              "      <td>2010</td>\n",
              "      <td>120</td>\n",
              "      <td>84</td>\n",
              "      <td>76</td>\n",
              "      <td>-3</td>\n",
              "      <td>29</td>\n",
              "      <td>71</td>\n",
              "      <td>200</td>\n",
              "      <td>10</td>\n",
              "      <td>14</td>\n",
              "      <td>80</td>\n",
              "    </tr>\n",
              "    <tr>\n",
              "      <th>3</th>\n",
              "      <td>4</td>\n",
              "      <td>Bad Romance</td>\n",
              "      <td>Lady Gaga</td>\n",
              "      <td>dance pop</td>\n",
              "      <td>2010</td>\n",
              "      <td>119</td>\n",
              "      <td>92</td>\n",
              "      <td>70</td>\n",
              "      <td>-4</td>\n",
              "      <td>8</td>\n",
              "      <td>71</td>\n",
              "      <td>295</td>\n",
              "      <td>0</td>\n",
              "      <td>4</td>\n",
              "      <td>79</td>\n",
              "    </tr>\n",
              "    <tr>\n",
              "      <th>4</th>\n",
              "      <td>5</td>\n",
              "      <td>Just the Way You Are</td>\n",
              "      <td>Bruno Mars</td>\n",
              "      <td>pop</td>\n",
              "      <td>2010</td>\n",
              "      <td>109</td>\n",
              "      <td>84</td>\n",
              "      <td>64</td>\n",
              "      <td>-5</td>\n",
              "      <td>9</td>\n",
              "      <td>43</td>\n",
              "      <td>221</td>\n",
              "      <td>2</td>\n",
              "      <td>4</td>\n",
              "      <td>78</td>\n",
              "    </tr>\n",
              "    <tr>\n",
              "      <th>5</th>\n",
              "      <td>6</td>\n",
              "      <td>Baby</td>\n",
              "      <td>Justin Bieber</td>\n",
              "      <td>canadian pop</td>\n",
              "      <td>2010</td>\n",
              "      <td>65</td>\n",
              "      <td>86</td>\n",
              "      <td>73</td>\n",
              "      <td>-5</td>\n",
              "      <td>11</td>\n",
              "      <td>54</td>\n",
              "      <td>214</td>\n",
              "      <td>4</td>\n",
              "      <td>14</td>\n",
              "      <td>77</td>\n",
              "    </tr>\n",
              "    <tr>\n",
              "      <th>6</th>\n",
              "      <td>7</td>\n",
              "      <td>Dynamite</td>\n",
              "      <td>Taio Cruz</td>\n",
              "      <td>dance pop</td>\n",
              "      <td>2010</td>\n",
              "      <td>120</td>\n",
              "      <td>78</td>\n",
              "      <td>75</td>\n",
              "      <td>-4</td>\n",
              "      <td>4</td>\n",
              "      <td>82</td>\n",
              "      <td>203</td>\n",
              "      <td>0</td>\n",
              "      <td>9</td>\n",
              "      <td>77</td>\n",
              "    </tr>\n",
              "    <tr>\n",
              "      <th>7</th>\n",
              "      <td>8</td>\n",
              "      <td>Secrets</td>\n",
              "      <td>OneRepublic</td>\n",
              "      <td>dance pop</td>\n",
              "      <td>2010</td>\n",
              "      <td>148</td>\n",
              "      <td>76</td>\n",
              "      <td>52</td>\n",
              "      <td>-6</td>\n",
              "      <td>12</td>\n",
              "      <td>38</td>\n",
              "      <td>225</td>\n",
              "      <td>7</td>\n",
              "      <td>4</td>\n",
              "      <td>77</td>\n",
              "    </tr>\n",
              "    <tr>\n",
              "      <th>8</th>\n",
              "      <td>9</td>\n",
              "      <td>Empire State of Mind (Part II) Broken Down</td>\n",
              "      <td>Alicia Keys</td>\n",
              "      <td>hip pop</td>\n",
              "      <td>2010</td>\n",
              "      <td>93</td>\n",
              "      <td>37</td>\n",
              "      <td>48</td>\n",
              "      <td>-8</td>\n",
              "      <td>12</td>\n",
              "      <td>14</td>\n",
              "      <td>216</td>\n",
              "      <td>74</td>\n",
              "      <td>3</td>\n",
              "      <td>76</td>\n",
              "    </tr>\n",
              "    <tr>\n",
              "      <th>9</th>\n",
              "      <td>10</td>\n",
              "      <td>Only Girl (In The World)</td>\n",
              "      <td>Rihanna</td>\n",
              "      <td>barbadian pop</td>\n",
              "      <td>2010</td>\n",
              "      <td>126</td>\n",
              "      <td>72</td>\n",
              "      <td>79</td>\n",
              "      <td>-4</td>\n",
              "      <td>7</td>\n",
              "      <td>61</td>\n",
              "      <td>235</td>\n",
              "      <td>13</td>\n",
              "      <td>4</td>\n",
              "      <td>73</td>\n",
              "    </tr>\n",
              "  </tbody>\n",
              "</table>\n",
              "</div>"
            ],
            "text/plain": [
              "   id                                       title  ... speechiness popularity\n",
              "0   1                            Hey, Soul Sister  ...           4         83\n",
              "1   2                        Love The Way You Lie  ...          23         82\n",
              "2   3                                     TiK ToK  ...          14         80\n",
              "3   4                                 Bad Romance  ...           4         79\n",
              "4   5                        Just the Way You Are  ...           4         78\n",
              "5   6                                        Baby  ...          14         77\n",
              "6   7                                    Dynamite  ...           9         77\n",
              "7   8                                     Secrets  ...           4         77\n",
              "8   9  Empire State of Mind (Part II) Broken Down  ...           3         76\n",
              "9  10                    Only Girl (In The World)  ...           4         73\n",
              "\n",
              "[10 rows x 15 columns]"
            ]
          },
          "metadata": {
            "tags": []
          },
          "execution_count": 84
        }
      ]
    },
    {
      "cell_type": "code",
      "metadata": {
        "id": "7U_APF4H4tDd",
        "colab_type": "code",
        "colab": {}
      },
      "source": [
        "data = data.dropna()"
      ],
      "execution_count": 85,
      "outputs": []
    },
    {
      "cell_type": "markdown",
      "metadata": {
        "id": "XmPcREIZMNaO",
        "colab_type": "text"
      },
      "source": [
        "Alguma observações."
      ]
    },
    {
      "cell_type": "code",
      "metadata": {
        "id": "0dxt1Y1P2C5V",
        "colab_type": "code",
        "colab": {
          "base_uri": "https://localhost:8080/",
          "height": 0
        },
        "outputId": "601463d4-5f78-4ed9-f9d5-a7ed216e6d37"
      },
      "source": [
        "data['genre'].value_counts().head(10)"
      ],
      "execution_count": 86,
      "outputs": [
        {
          "output_type": "execute_result",
          "data": {
            "text/plain": [
              "dance pop                    327\n",
              "pop                           60\n",
              "canadian pop                  34\n",
              "boy band                      15\n",
              "barbadian pop                 15\n",
              "electropop                    13\n",
              "british soul                  11\n",
              "big room                      10\n",
              "canadian contemporary r&b      9\n",
              "neo mellow                     9\n",
              "Name: genre, dtype: int64"
            ]
          },
          "metadata": {
            "tags": []
          },
          "execution_count": 86
        }
      ]
    },
    {
      "cell_type": "markdown",
      "metadata": {
        "id": "Ga79LpDc2OLU",
        "colab_type": "text"
      },
      "source": [
        "Pop, especialmente dance pop, é de longe o gênero mais popular. "
      ]
    },
    {
      "cell_type": "code",
      "metadata": {
        "id": "u5V0gg3zKHv0",
        "colab_type": "code",
        "colab": {
          "base_uri": "https://localhost:8080/",
          "height": 0
        },
        "outputId": "c4d43e06-9f4b-4f51-c101-ac4b22feb9e8"
      },
      "source": [
        "data['artist'].value_counts().head(10)"
      ],
      "execution_count": 87,
      "outputs": [
        {
          "output_type": "execute_result",
          "data": {
            "text/plain": [
              "Katy Perry          17\n",
              "Justin Bieber       16\n",
              "Rihanna             15\n",
              "Maroon 5            15\n",
              "Lady Gaga           14\n",
              "Bruno Mars          13\n",
              "The Chainsmokers    11\n",
              "Pitbull             11\n",
              "Ed Sheeran          11\n",
              "Shawn Mendes        11\n",
              "Name: artist, dtype: int64"
            ]
          },
          "metadata": {
            "tags": []
          },
          "execution_count": 87
        }
      ]
    },
    {
      "cell_type": "markdown",
      "metadata": {
        "id": "ECA5Z6jgKM1L",
        "colab_type": "text"
      },
      "source": [
        "Katy Perry possui o maior número de músicas no top."
      ]
    },
    {
      "cell_type": "markdown",
      "metadata": {
        "id": "jZvD4J97LPwC",
        "colab_type": "text"
      },
      "source": [
        "# Pré-processamento"
      ]
    },
    {
      "cell_type": "markdown",
      "metadata": {
        "id": "50Y4kamULkxS",
        "colab_type": "text"
      },
      "source": [
        "Remoção de atributos categóricos. "
      ]
    },
    {
      "cell_type": "code",
      "metadata": {
        "id": "409AadXb4s9z",
        "colab_type": "code",
        "colab": {}
      },
      "source": [
        "data = data.drop(columns=['id', 'title', 'artist', 'year', 'genre'])"
      ],
      "execution_count": 88,
      "outputs": []
    },
    {
      "cell_type": "code",
      "metadata": {
        "id": "RCdbmqqG4s8j",
        "colab_type": "code",
        "colab": {
          "base_uri": "https://localhost:8080/",
          "height": 0
        },
        "outputId": "44141e59-f03d-4eca-e06a-5140554df063"
      },
      "source": [
        "data.head(10)"
      ],
      "execution_count": 89,
      "outputs": [
        {
          "output_type": "execute_result",
          "data": {
            "text/html": [
              "<div>\n",
              "<style scoped>\n",
              "    .dataframe tbody tr th:only-of-type {\n",
              "        vertical-align: middle;\n",
              "    }\n",
              "\n",
              "    .dataframe tbody tr th {\n",
              "        vertical-align: top;\n",
              "    }\n",
              "\n",
              "    .dataframe thead th {\n",
              "        text-align: right;\n",
              "    }\n",
              "</style>\n",
              "<table border=\"1\" class=\"dataframe\">\n",
              "  <thead>\n",
              "    <tr style=\"text-align: right;\">\n",
              "      <th></th>\n",
              "      <th>bpm</th>\n",
              "      <th>energy</th>\n",
              "      <th>danceability</th>\n",
              "      <th>loudness</th>\n",
              "      <th>live</th>\n",
              "      <th>valence</th>\n",
              "      <th>length</th>\n",
              "      <th>acousticness</th>\n",
              "      <th>speechiness</th>\n",
              "      <th>popularity</th>\n",
              "    </tr>\n",
              "  </thead>\n",
              "  <tbody>\n",
              "    <tr>\n",
              "      <th>0</th>\n",
              "      <td>97</td>\n",
              "      <td>89</td>\n",
              "      <td>67</td>\n",
              "      <td>-4</td>\n",
              "      <td>8</td>\n",
              "      <td>80</td>\n",
              "      <td>217</td>\n",
              "      <td>19</td>\n",
              "      <td>4</td>\n",
              "      <td>83</td>\n",
              "    </tr>\n",
              "    <tr>\n",
              "      <th>1</th>\n",
              "      <td>87</td>\n",
              "      <td>93</td>\n",
              "      <td>75</td>\n",
              "      <td>-5</td>\n",
              "      <td>52</td>\n",
              "      <td>64</td>\n",
              "      <td>263</td>\n",
              "      <td>24</td>\n",
              "      <td>23</td>\n",
              "      <td>82</td>\n",
              "    </tr>\n",
              "    <tr>\n",
              "      <th>2</th>\n",
              "      <td>120</td>\n",
              "      <td>84</td>\n",
              "      <td>76</td>\n",
              "      <td>-3</td>\n",
              "      <td>29</td>\n",
              "      <td>71</td>\n",
              "      <td>200</td>\n",
              "      <td>10</td>\n",
              "      <td>14</td>\n",
              "      <td>80</td>\n",
              "    </tr>\n",
              "    <tr>\n",
              "      <th>3</th>\n",
              "      <td>119</td>\n",
              "      <td>92</td>\n",
              "      <td>70</td>\n",
              "      <td>-4</td>\n",
              "      <td>8</td>\n",
              "      <td>71</td>\n",
              "      <td>295</td>\n",
              "      <td>0</td>\n",
              "      <td>4</td>\n",
              "      <td>79</td>\n",
              "    </tr>\n",
              "    <tr>\n",
              "      <th>4</th>\n",
              "      <td>109</td>\n",
              "      <td>84</td>\n",
              "      <td>64</td>\n",
              "      <td>-5</td>\n",
              "      <td>9</td>\n",
              "      <td>43</td>\n",
              "      <td>221</td>\n",
              "      <td>2</td>\n",
              "      <td>4</td>\n",
              "      <td>78</td>\n",
              "    </tr>\n",
              "    <tr>\n",
              "      <th>5</th>\n",
              "      <td>65</td>\n",
              "      <td>86</td>\n",
              "      <td>73</td>\n",
              "      <td>-5</td>\n",
              "      <td>11</td>\n",
              "      <td>54</td>\n",
              "      <td>214</td>\n",
              "      <td>4</td>\n",
              "      <td>14</td>\n",
              "      <td>77</td>\n",
              "    </tr>\n",
              "    <tr>\n",
              "      <th>6</th>\n",
              "      <td>120</td>\n",
              "      <td>78</td>\n",
              "      <td>75</td>\n",
              "      <td>-4</td>\n",
              "      <td>4</td>\n",
              "      <td>82</td>\n",
              "      <td>203</td>\n",
              "      <td>0</td>\n",
              "      <td>9</td>\n",
              "      <td>77</td>\n",
              "    </tr>\n",
              "    <tr>\n",
              "      <th>7</th>\n",
              "      <td>148</td>\n",
              "      <td>76</td>\n",
              "      <td>52</td>\n",
              "      <td>-6</td>\n",
              "      <td>12</td>\n",
              "      <td>38</td>\n",
              "      <td>225</td>\n",
              "      <td>7</td>\n",
              "      <td>4</td>\n",
              "      <td>77</td>\n",
              "    </tr>\n",
              "    <tr>\n",
              "      <th>8</th>\n",
              "      <td>93</td>\n",
              "      <td>37</td>\n",
              "      <td>48</td>\n",
              "      <td>-8</td>\n",
              "      <td>12</td>\n",
              "      <td>14</td>\n",
              "      <td>216</td>\n",
              "      <td>74</td>\n",
              "      <td>3</td>\n",
              "      <td>76</td>\n",
              "    </tr>\n",
              "    <tr>\n",
              "      <th>9</th>\n",
              "      <td>126</td>\n",
              "      <td>72</td>\n",
              "      <td>79</td>\n",
              "      <td>-4</td>\n",
              "      <td>7</td>\n",
              "      <td>61</td>\n",
              "      <td>235</td>\n",
              "      <td>13</td>\n",
              "      <td>4</td>\n",
              "      <td>73</td>\n",
              "    </tr>\n",
              "  </tbody>\n",
              "</table>\n",
              "</div>"
            ],
            "text/plain": [
              "   bpm  energy  danceability  ...  acousticness  speechiness  popularity\n",
              "0   97      89            67  ...            19            4          83\n",
              "1   87      93            75  ...            24           23          82\n",
              "2  120      84            76  ...            10           14          80\n",
              "3  119      92            70  ...             0            4          79\n",
              "4  109      84            64  ...             2            4          78\n",
              "5   65      86            73  ...             4           14          77\n",
              "6  120      78            75  ...             0            9          77\n",
              "7  148      76            52  ...             7            4          77\n",
              "8   93      37            48  ...            74            3          76\n",
              "9  126      72            79  ...            13            4          73\n",
              "\n",
              "[10 rows x 10 columns]"
            ]
          },
          "metadata": {
            "tags": []
          },
          "execution_count": 89
        }
      ]
    },
    {
      "cell_type": "markdown",
      "metadata": {
        "id": "g3OqI489MY-N",
        "colab_type": "text"
      },
      "source": [
        "# Análise"
      ]
    },
    {
      "cell_type": "code",
      "metadata": {
        "id": "9I6Ao7NqN_wi",
        "colab_type": "code",
        "colab": {
          "base_uri": "https://localhost:8080/",
          "height": 300
        },
        "outputId": "d341be99-7712-45ef-c42f-3d054409bb09"
      },
      "source": [
        "data.describe()"
      ],
      "execution_count": null,
      "outputs": [
        {
          "output_type": "execute_result",
          "data": {
            "text/html": [
              "<div>\n",
              "<style scoped>\n",
              "    .dataframe tbody tr th:only-of-type {\n",
              "        vertical-align: middle;\n",
              "    }\n",
              "\n",
              "    .dataframe tbody tr th {\n",
              "        vertical-align: top;\n",
              "    }\n",
              "\n",
              "    .dataframe thead th {\n",
              "        text-align: right;\n",
              "    }\n",
              "</style>\n",
              "<table border=\"1\" class=\"dataframe\">\n",
              "  <thead>\n",
              "    <tr style=\"text-align: right;\">\n",
              "      <th></th>\n",
              "      <th>bpm</th>\n",
              "      <th>energy</th>\n",
              "      <th>danceability</th>\n",
              "      <th>loudness</th>\n",
              "      <th>live</th>\n",
              "      <th>valence</th>\n",
              "      <th>length</th>\n",
              "      <th>acousticness</th>\n",
              "      <th>speechiness</th>\n",
              "      <th>popularity</th>\n",
              "    </tr>\n",
              "  </thead>\n",
              "  <tbody>\n",
              "    <tr>\n",
              "      <th>count</th>\n",
              "      <td>603.000000</td>\n",
              "      <td>603.000000</td>\n",
              "      <td>603.000000</td>\n",
              "      <td>603.000000</td>\n",
              "      <td>603.000000</td>\n",
              "      <td>603.000000</td>\n",
              "      <td>603.000000</td>\n",
              "      <td>603.000000</td>\n",
              "      <td>603.000000</td>\n",
              "      <td>603.000000</td>\n",
              "    </tr>\n",
              "    <tr>\n",
              "      <th>mean</th>\n",
              "      <td>118.545605</td>\n",
              "      <td>70.504146</td>\n",
              "      <td>64.379768</td>\n",
              "      <td>-5.578773</td>\n",
              "      <td>17.774461</td>\n",
              "      <td>52.225539</td>\n",
              "      <td>224.674959</td>\n",
              "      <td>14.326700</td>\n",
              "      <td>8.358209</td>\n",
              "      <td>66.520730</td>\n",
              "    </tr>\n",
              "    <tr>\n",
              "      <th>std</th>\n",
              "      <td>24.795358</td>\n",
              "      <td>16.310664</td>\n",
              "      <td>13.378718</td>\n",
              "      <td>2.798020</td>\n",
              "      <td>13.102543</td>\n",
              "      <td>22.513020</td>\n",
              "      <td>34.130059</td>\n",
              "      <td>20.766165</td>\n",
              "      <td>7.483162</td>\n",
              "      <td>14.517746</td>\n",
              "    </tr>\n",
              "    <tr>\n",
              "      <th>min</th>\n",
              "      <td>0.000000</td>\n",
              "      <td>0.000000</td>\n",
              "      <td>0.000000</td>\n",
              "      <td>-60.000000</td>\n",
              "      <td>0.000000</td>\n",
              "      <td>0.000000</td>\n",
              "      <td>134.000000</td>\n",
              "      <td>0.000000</td>\n",
              "      <td>0.000000</td>\n",
              "      <td>0.000000</td>\n",
              "    </tr>\n",
              "    <tr>\n",
              "      <th>25%</th>\n",
              "      <td>100.000000</td>\n",
              "      <td>61.000000</td>\n",
              "      <td>57.000000</td>\n",
              "      <td>-6.000000</td>\n",
              "      <td>9.000000</td>\n",
              "      <td>35.000000</td>\n",
              "      <td>202.000000</td>\n",
              "      <td>2.000000</td>\n",
              "      <td>4.000000</td>\n",
              "      <td>60.000000</td>\n",
              "    </tr>\n",
              "    <tr>\n",
              "      <th>50%</th>\n",
              "      <td>120.000000</td>\n",
              "      <td>74.000000</td>\n",
              "      <td>66.000000</td>\n",
              "      <td>-5.000000</td>\n",
              "      <td>12.000000</td>\n",
              "      <td>52.000000</td>\n",
              "      <td>221.000000</td>\n",
              "      <td>6.000000</td>\n",
              "      <td>5.000000</td>\n",
              "      <td>69.000000</td>\n",
              "    </tr>\n",
              "    <tr>\n",
              "      <th>75%</th>\n",
              "      <td>129.000000</td>\n",
              "      <td>82.000000</td>\n",
              "      <td>73.000000</td>\n",
              "      <td>-4.000000</td>\n",
              "      <td>24.000000</td>\n",
              "      <td>69.000000</td>\n",
              "      <td>239.500000</td>\n",
              "      <td>17.000000</td>\n",
              "      <td>9.000000</td>\n",
              "      <td>76.000000</td>\n",
              "    </tr>\n",
              "    <tr>\n",
              "      <th>max</th>\n",
              "      <td>206.000000</td>\n",
              "      <td>98.000000</td>\n",
              "      <td>97.000000</td>\n",
              "      <td>-2.000000</td>\n",
              "      <td>74.000000</td>\n",
              "      <td>98.000000</td>\n",
              "      <td>424.000000</td>\n",
              "      <td>99.000000</td>\n",
              "      <td>48.000000</td>\n",
              "      <td>99.000000</td>\n",
              "    </tr>\n",
              "  </tbody>\n",
              "</table>\n",
              "</div>"
            ],
            "text/plain": [
              "              bpm      energy  ...  speechiness  popularity\n",
              "count  603.000000  603.000000  ...   603.000000  603.000000\n",
              "mean   118.545605   70.504146  ...     8.358209   66.520730\n",
              "std     24.795358   16.310664  ...     7.483162   14.517746\n",
              "min      0.000000    0.000000  ...     0.000000    0.000000\n",
              "25%    100.000000   61.000000  ...     4.000000   60.000000\n",
              "50%    120.000000   74.000000  ...     5.000000   69.000000\n",
              "75%    129.000000   82.000000  ...     9.000000   76.000000\n",
              "max    206.000000   98.000000  ...    48.000000   99.000000\n",
              "\n",
              "[8 rows x 10 columns]"
            ]
          },
          "metadata": {
            "tags": []
          },
          "execution_count": 131
        }
      ]
    },
    {
      "cell_type": "code",
      "metadata": {
        "id": "3Ku0ZYNwReQW",
        "colab_type": "code",
        "colab": {
          "base_uri": "https://localhost:8080/",
          "height": 458
        },
        "outputId": "1a91c174-8c9b-494f-f44f-7fadbf860dcd"
      },
      "source": [
        "fig = plt.figure(figsize=(10, 7))\n",
        "sns.distplot(data.popularity, hist=False, rug=False)\n",
        "plt.ylabel('Probabilidades')\n",
        "plt.grid(True)\n",
        "plt.title('Popularidade')\n",
        "plt.show()"
      ],
      "execution_count": null,
      "outputs": [
        {
          "output_type": "display_data",
          "data": {
            "image/png": "[encoded data removed]",
            "text/plain": [
              "<Figure size 720x504 with 1 Axes>"
            ]
          },
          "metadata": {
            "tags": [],
            "needs_background": "light"
          }
        }
      ]
    },
    {
      "cell_type": "code",
      "metadata": {
        "id": "wZowRRMWRt8t",
        "colab_type": "code",
        "colab": {
          "base_uri": "https://localhost:8080/",
          "height": 458
        },
        "outputId": "5e2445a7-bef6-436c-e41a-d6196e0b23b1"
      },
      "source": [
        "fig = plt.figure(figsize=(10, 7))\n",
        "sns.distplot(data.energy, hist=False, rug=False)\n",
        "plt.ylabel('Probabilidades')\n",
        "plt.grid(True)\n",
        "plt.title('Energia')\n",
        "plt.show()"
      ],
      "execution_count": null,
      "outputs": [
        {
          "output_type": "display_data",
          "data": {
            "image/png": "[encoded data removed]",
            "text/plain": [
              "<Figure size 720x504 with 1 Axes>"
            ]
          },
          "metadata": {
            "tags": [],
            "needs_background": "light"
          }
        }
      ]
    },
    {
      "cell_type": "markdown",
      "metadata": {
        "id": "K0pxMl5sTVEZ",
        "colab_type": "text"
      },
      "source": [
        "A energia geralmente é alta."
      ]
    },
    {
      "cell_type": "code",
      "metadata": {
        "id": "JxTk7yGx4s4G",
        "colab_type": "code",
        "colab": {
          "base_uri": "https://localhost:8080/",
          "height": 444
        },
        "outputId": "46eb48ec-86c3-4c27-deee-ce350ad3c7f0"
      },
      "source": [
        "fig = plt.figure(figsize=(10, 7))\n",
        "data.boxplot()\n",
        "plt.title('Boxplot Completo')\n",
        "plt.show()"
      ],
      "execution_count": null,
      "outputs": [
        {
          "output_type": "display_data",
          "data": {
            "image/png": "[encoded data removed]",
            "text/plain": [
              "<Figure size 720x504 with 1 Axes>"
            ]
          },
          "metadata": {
            "tags": [],
            "needs_background": "light"
          }
        }
      ]
    },
    {
      "cell_type": "markdown",
      "metadata": {
        "id": "mULtlynFT0bq",
        "colab_type": "text"
      },
      "source": [
        "Os outliers tendem a ficar apenas ou no mínimo ou no máximo."
      ]
    },
    {
      "cell_type": "code",
      "metadata": {
        "id": "uJqJhpIJ4syH",
        "colab_type": "code",
        "colab": {
          "base_uri": "https://localhost:8080/",
          "height": 476
        },
        "outputId": "4eab51e2-23c2-4f87-ccb3-09691b291935"
      },
      "source": [
        "fig = plt.figure(figsize=(10, 7))\n",
        "plt.scatter(data.popularity, data.danceability)\n",
        "plt.xlabel('Popularidade')\n",
        "plt.ylabel('Dançabilidade')\n",
        "plt.title('Correlação entre popularidade e dançabilidade')\n",
        "plt.grid(True)\n",
        "plt.show()\n",
        "\n",
        "print(f\"Correlação: {data['popularity'].corr(data['danceability'])}\")"
      ],
      "execution_count": null,
      "outputs": [
        {
          "output_type": "display_data",
          "data": {
            "image/png": "[encoded data removed]",
            "text/plain": [
              "<Figure size 720x504 with 1 Axes>"
            ]
          },
          "metadata": {
            "tags": [],
            "needs_background": "light"
          }
        },
        {
          "output_type": "stream",
          "text": [
            "Correlação: 0.11605444461442103\n"
          ],
          "name": "stdout"
        }
      ]
    },
    {
      "cell_type": "code",
      "metadata": {
        "id": "sI86zJiG4svx",
        "colab_type": "code",
        "colab": {
          "base_uri": "https://localhost:8080/",
          "height": 476
        },
        "outputId": "bf82e481-324a-408b-bbd4-d4bb3573be24"
      },
      "source": [
        "fig = plt.figure(figsize=(10, 7))\n",
        "plt.scatter(data.popularity, data.length)\n",
        "plt.xlabel('Popularidade')\n",
        "plt.ylabel('Duração')\n",
        "plt.title('Correlação entre popularidade e duração')\n",
        "plt.grid(True)\n",
        "plt.show()\n",
        "\n",
        "print(f\"Correlação: {data['popularity'].corr(data['length'])}\")"
      ],
      "execution_count": null,
      "outputs": [
        {
          "output_type": "display_data",
          "data": {
            "image/png": "[encoded data removed]",
            "text/plain": [
              "<Figure size 720x504 with 1 Axes>"
            ]
          },
          "metadata": {
            "tags": [],
            "needs_background": "light"
          }
        },
        {
          "output_type": "stream",
          "text": [
            "Correlação: -0.10436275315485516\n"
          ],
          "name": "stdout"
        }
      ]
    },
    {
      "cell_type": "code",
      "metadata": {
        "id": "4lY8W_VQ-CmS",
        "colab_type": "code",
        "colab": {}
      },
      "source": [
        "corr = data.corr()"
      ],
      "execution_count": null,
      "outputs": []
    },
    {
      "cell_type": "code",
      "metadata": {
        "id": "sUzUEK6Z_qAr",
        "colab_type": "code",
        "colab": {
          "base_uri": "https://localhost:8080/",
          "height": 363
        },
        "outputId": "12c7379f-aced-4201-fbb8-fd1b10d1b332"
      },
      "source": [
        "corr"
      ],
      "execution_count": null,
      "outputs": [
        {
          "output_type": "execute_result",
          "data": {
            "text/html": [
              "<div>\n",
              "<style scoped>\n",
              "    .dataframe tbody tr th:only-of-type {\n",
              "        vertical-align: middle;\n",
              "    }\n",
              "\n",
              "    .dataframe tbody tr th {\n",
              "        vertical-align: top;\n",
              "    }\n",
              "\n",
              "    .dataframe thead th {\n",
              "        text-align: right;\n",
              "    }\n",
              "</style>\n",
              "<table border=\"1\" class=\"dataframe\">\n",
              "  <thead>\n",
              "    <tr style=\"text-align: right;\">\n",
              "      <th></th>\n",
              "      <th>bpm</th>\n",
              "      <th>energy</th>\n",
              "      <th>danceability</th>\n",
              "      <th>loudness</th>\n",
              "      <th>live</th>\n",
              "      <th>valence</th>\n",
              "      <th>length</th>\n",
              "      <th>acousticness</th>\n",
              "      <th>speechiness</th>\n",
              "      <th>popularity</th>\n",
              "    </tr>\n",
              "  </thead>\n",
              "  <tbody>\n",
              "    <tr>\n",
              "      <th>bpm</th>\n",
              "      <td>1.000000</td>\n",
              "      <td>0.126170</td>\n",
              "      <td>-0.131301</td>\n",
              "      <td>0.183870</td>\n",
              "      <td>0.081579</td>\n",
              "      <td>0.016021</td>\n",
              "      <td>-0.029359</td>\n",
              "      <td>-0.113257</td>\n",
              "      <td>0.058999</td>\n",
              "      <td>0.018983</td>\n",
              "    </tr>\n",
              "    <tr>\n",
              "      <th>energy</th>\n",
              "      <td>0.126170</td>\n",
              "      <td>1.000000</td>\n",
              "      <td>0.167209</td>\n",
              "      <td>0.537528</td>\n",
              "      <td>0.186738</td>\n",
              "      <td>0.409577</td>\n",
              "      <td>-0.143610</td>\n",
              "      <td>-0.562287</td>\n",
              "      <td>0.107313</td>\n",
              "      <td>-0.057645</td>\n",
              "    </tr>\n",
              "    <tr>\n",
              "      <th>danceability</th>\n",
              "      <td>-0.131301</td>\n",
              "      <td>0.167209</td>\n",
              "      <td>1.000000</td>\n",
              "      <td>0.233170</td>\n",
              "      <td>-0.028801</td>\n",
              "      <td>0.501696</td>\n",
              "      <td>-0.176841</td>\n",
              "      <td>-0.240064</td>\n",
              "      <td>-0.028041</td>\n",
              "      <td>0.116054</td>\n",
              "    </tr>\n",
              "    <tr>\n",
              "      <th>loudness</th>\n",
              "      <td>0.183870</td>\n",
              "      <td>0.537528</td>\n",
              "      <td>0.233170</td>\n",
              "      <td>1.000000</td>\n",
              "      <td>0.081934</td>\n",
              "      <td>0.282922</td>\n",
              "      <td>-0.104723</td>\n",
              "      <td>-0.190401</td>\n",
              "      <td>-0.001110</td>\n",
              "      <td>0.156897</td>\n",
              "    </tr>\n",
              "    <tr>\n",
              "      <th>live</th>\n",
              "      <td>0.081579</td>\n",
              "      <td>0.186738</td>\n",
              "      <td>-0.028801</td>\n",
              "      <td>0.081934</td>\n",
              "      <td>1.000000</td>\n",
              "      <td>0.020226</td>\n",
              "      <td>0.098339</td>\n",
              "      <td>-0.098167</td>\n",
              "      <td>0.144103</td>\n",
              "      <td>-0.075749</td>\n",
              "    </tr>\n",
              "    <tr>\n",
              "      <th>valence</th>\n",
              "      <td>0.016021</td>\n",
              "      <td>0.409577</td>\n",
              "      <td>0.501696</td>\n",
              "      <td>0.282922</td>\n",
              "      <td>0.020226</td>\n",
              "      <td>1.000000</td>\n",
              "      <td>-0.262256</td>\n",
              "      <td>-0.249038</td>\n",
              "      <td>0.122013</td>\n",
              "      <td>0.038953</td>\n",
              "    </tr>\n",
              "    <tr>\n",
              "      <th>length</th>\n",
              "      <td>-0.029359</td>\n",
              "      <td>-0.143610</td>\n",
              "      <td>-0.176841</td>\n",
              "      <td>-0.104723</td>\n",
              "      <td>0.098339</td>\n",
              "      <td>-0.262256</td>\n",
              "      <td>1.000000</td>\n",
              "      <td>0.091802</td>\n",
              "      <td>0.054564</td>\n",
              "      <td>-0.104363</td>\n",
              "    </tr>\n",
              "    <tr>\n",
              "      <th>acousticness</th>\n",
              "      <td>-0.113257</td>\n",
              "      <td>-0.562287</td>\n",
              "      <td>-0.240064</td>\n",
              "      <td>-0.190401</td>\n",
              "      <td>-0.098167</td>\n",
              "      <td>-0.249038</td>\n",
              "      <td>0.091802</td>\n",
              "      <td>1.000000</td>\n",
              "      <td>0.002763</td>\n",
              "      <td>0.026704</td>\n",
              "    </tr>\n",
              "    <tr>\n",
              "      <th>speechiness</th>\n",
              "      <td>0.058999</td>\n",
              "      <td>0.107313</td>\n",
              "      <td>-0.028041</td>\n",
              "      <td>-0.001110</td>\n",
              "      <td>0.144103</td>\n",
              "      <td>0.122013</td>\n",
              "      <td>0.054564</td>\n",
              "      <td>0.002763</td>\n",
              "      <td>1.000000</td>\n",
              "      <td>-0.041490</td>\n",
              "    </tr>\n",
              "    <tr>\n",
              "      <th>popularity</th>\n",
              "      <td>0.018983</td>\n",
              "      <td>-0.057645</td>\n",
              "      <td>0.116054</td>\n",
              "      <td>0.156897</td>\n",
              "      <td>-0.075749</td>\n",
              "      <td>0.038953</td>\n",
              "      <td>-0.104363</td>\n",
              "      <td>0.026704</td>\n",
              "      <td>-0.041490</td>\n",
              "      <td>1.000000</td>\n",
              "    </tr>\n",
              "  </tbody>\n",
              "</table>\n",
              "</div>"
            ],
            "text/plain": [
              "                   bpm    energy  ...  speechiness  popularity\n",
              "bpm           1.000000  0.126170  ...     0.058999    0.018983\n",
              "energy        0.126170  1.000000  ...     0.107313   -0.057645\n",
              "danceability -0.131301  0.167209  ...    -0.028041    0.116054\n",
              "loudness      0.183870  0.537528  ...    -0.001110    0.156897\n",
              "live          0.081579  0.186738  ...     0.144103   -0.075749\n",
              "valence       0.016021  0.409577  ...     0.122013    0.038953\n",
              "length       -0.029359 -0.143610  ...     0.054564   -0.104363\n",
              "acousticness -0.113257 -0.562287  ...     0.002763    0.026704\n",
              "speechiness   0.058999  0.107313  ...     1.000000   -0.041490\n",
              "popularity    0.018983 -0.057645  ...    -0.041490    1.000000\n",
              "\n",
              "[10 rows x 10 columns]"
            ]
          },
          "metadata": {
            "tags": []
          },
          "execution_count": 95
        }
      ]
    },
    {
      "cell_type": "code",
      "metadata": {
        "id": "dih_0yuf_p-O",
        "colab_type": "code",
        "colab": {
          "base_uri": "https://localhost:8080/",
          "height": 614
        },
        "outputId": "abc015e5-af70-4fa6-d938-f1008611e2c7"
      },
      "source": [
        "fig = plt.figure(figsize=(15, 10))\n",
        "sns.heatmap(corr, vmin=-1, vmax=1, center=0, cmap=sns.diverging_palette(20, 220, n=200))"
      ],
      "execution_count": null,
      "outputs": [
        {
          "output_type": "execute_result",
          "data": {
            "text/plain": [
              "<matplotlib.axes._subplots.AxesSubplot at 0x7f07afc350f0>"
            ]
          },
          "metadata": {
            "tags": []
          },
          "execution_count": 105
        },
        {
          "output_type": "display_data",
          "data": {
            "image/png": "[encoded data removed]",
            "text/plain": [
              "<Figure size 1080x720 with 2 Axes>"
            ]
          },
          "metadata": {
            "tags": [],
            "needs_background": "light"
          }
        }
      ]
    },
    {
      "cell_type": "markdown",
      "metadata": {
        "id": "CabnRnBsBo3l",
        "colab_type": "text"
      },
      "source": [
        "Observações sobre as correlacões dos atributos entre si e com a popularidade:\n",
        "\n",
        "A energia da música tem considerável correlação positiva com a volume e com a positividade, e correlação negativa com a acusticidade. A dançabilidade também aumenta conforme a positividade.\n",
        "\n",
        "Poucos atributos afetam diretamente a popularidade, porém pode-se observar que as músicas mais populares tendem a ser mais curtas e serem mais altas/\"dançáveis\".\n",
        "\n",
        "Provavelmente seja necessário mais dados para a construção de um bom modelo.\n",
        "\n",
        "\n"
      ]
    },
    {
      "cell_type": "markdown",
      "metadata": {
        "id": "KqajHzOVD7Yt",
        "colab_type": "text"
      },
      "source": [
        "# Aprendizado"
      ]
    },
    {
      "cell_type": "markdown",
      "metadata": {
        "id": "4LEW-Y_uCYsd",
        "colab_type": "text"
      },
      "source": [
        "Este dataset por padrão possui targets númericos e não classes."
      ]
    },
    {
      "cell_type": "markdown",
      "metadata": {
        "id": "k4U-UktMLrZV",
        "colab_type": "text"
      },
      "source": [
        "Removendo targets iguais a zero."
      ]
    },
    {
      "cell_type": "code",
      "metadata": {
        "id": "qS8e3kE2LLye",
        "colab_type": "code",
        "colab": {}
      },
      "source": [
        "data = data[data.popularity != 0]"
      ],
      "execution_count": 94,
      "outputs": []
    },
    {
      "cell_type": "markdown",
      "metadata": {
        "id": "dFhRdnlFEUvO",
        "colab_type": "text"
      },
      "source": [
        "Re-escala"
      ]
    },
    {
      "cell_type": "code",
      "metadata": {
        "id": "qJCK8EiGEWmv",
        "colab_type": "code",
        "colab": {
          "base_uri": "https://localhost:8080/",
          "height": 206
        },
        "outputId": "472aa0df-060e-4e8b-f900-15d08e85ad76"
      },
      "source": [
        "data = (data - data.min())/(data.max() - data.min())\n",
        "data.head()"
      ],
      "execution_count": 95,
      "outputs": [
        {
          "output_type": "execute_result",
          "data": {
            "text/html": [
              "<div>\n",
              "<style scoped>\n",
              "    .dataframe tbody tr th:only-of-type {\n",
              "        vertical-align: middle;\n",
              "    }\n",
              "\n",
              "    .dataframe tbody tr th {\n",
              "        vertical-align: top;\n",
              "    }\n",
              "\n",
              "    .dataframe thead th {\n",
              "        text-align: right;\n",
              "    }\n",
              "</style>\n",
              "<table border=\"1\" class=\"dataframe\">\n",
              "  <thead>\n",
              "    <tr style=\"text-align: right;\">\n",
              "      <th></th>\n",
              "      <th>bpm</th>\n",
              "      <th>energy</th>\n",
              "      <th>danceability</th>\n",
              "      <th>loudness</th>\n",
              "      <th>live</th>\n",
              "      <th>valence</th>\n",
              "      <th>length</th>\n",
              "      <th>acousticness</th>\n",
              "      <th>speechiness</th>\n",
              "      <th>popularity</th>\n",
              "    </tr>\n",
              "  </thead>\n",
              "  <tbody>\n",
              "    <tr>\n",
              "      <th>0</th>\n",
              "      <td>0.331288</td>\n",
              "      <td>0.904255</td>\n",
              "      <td>0.594595</td>\n",
              "      <td>0.846154</td>\n",
              "      <td>0.083333</td>\n",
              "      <td>0.808511</td>\n",
              "      <td>0.286207</td>\n",
              "      <td>0.191919</td>\n",
              "      <td>0.022222</td>\n",
              "      <td>0.826087</td>\n",
              "    </tr>\n",
              "    <tr>\n",
              "      <th>1</th>\n",
              "      <td>0.269939</td>\n",
              "      <td>0.946809</td>\n",
              "      <td>0.702703</td>\n",
              "      <td>0.769231</td>\n",
              "      <td>0.694444</td>\n",
              "      <td>0.638298</td>\n",
              "      <td>0.444828</td>\n",
              "      <td>0.242424</td>\n",
              "      <td>0.444444</td>\n",
              "      <td>0.815217</td>\n",
              "    </tr>\n",
              "    <tr>\n",
              "      <th>2</th>\n",
              "      <td>0.472393</td>\n",
              "      <td>0.851064</td>\n",
              "      <td>0.716216</td>\n",
              "      <td>0.923077</td>\n",
              "      <td>0.375000</td>\n",
              "      <td>0.712766</td>\n",
              "      <td>0.227586</td>\n",
              "      <td>0.101010</td>\n",
              "      <td>0.244444</td>\n",
              "      <td>0.793478</td>\n",
              "    </tr>\n",
              "    <tr>\n",
              "      <th>3</th>\n",
              "      <td>0.466258</td>\n",
              "      <td>0.936170</td>\n",
              "      <td>0.635135</td>\n",
              "      <td>0.846154</td>\n",
              "      <td>0.083333</td>\n",
              "      <td>0.712766</td>\n",
              "      <td>0.555172</td>\n",
              "      <td>0.000000</td>\n",
              "      <td>0.022222</td>\n",
              "      <td>0.782609</td>\n",
              "    </tr>\n",
              "    <tr>\n",
              "      <th>4</th>\n",
              "      <td>0.404908</td>\n",
              "      <td>0.851064</td>\n",
              "      <td>0.554054</td>\n",
              "      <td>0.769231</td>\n",
              "      <td>0.097222</td>\n",
              "      <td>0.414894</td>\n",
              "      <td>0.300000</td>\n",
              "      <td>0.020202</td>\n",
              "      <td>0.022222</td>\n",
              "      <td>0.771739</td>\n",
              "    </tr>\n",
              "  </tbody>\n",
              "</table>\n",
              "</div>"
            ],
            "text/plain": [
              "        bpm    energy  danceability  ...  acousticness  speechiness  popularity\n",
              "0  0.331288  0.904255      0.594595  ...      0.191919     0.022222    0.826087\n",
              "1  0.269939  0.946809      0.702703  ...      0.242424     0.444444    0.815217\n",
              "2  0.472393  0.851064      0.716216  ...      0.101010     0.244444    0.793478\n",
              "3  0.466258  0.936170      0.635135  ...      0.000000     0.022222    0.782609\n",
              "4  0.404908  0.851064      0.554054  ...      0.020202     0.022222    0.771739\n",
              "\n",
              "[5 rows x 10 columns]"
            ]
          },
          "metadata": {
            "tags": []
          },
          "execution_count": 95
        }
      ]
    },
    {
      "cell_type": "markdown",
      "metadata": {
        "id": "s3BVMLo0Eb-6",
        "colab_type": "text"
      },
      "source": [
        "Dados de treino e teste"
      ]
    },
    {
      "cell_type": "code",
      "metadata": {
        "id": "zT2xHiGpC7ro",
        "colab_type": "code",
        "colab": {
          "base_uri": "https://localhost:8080/",
          "height": 206
        },
        "outputId": "0f60f393-a68a-4649-ed3c-b28c935d3134"
      },
      "source": [
        "X = data.drop(columns=[\"popularity\"])\n",
        "X.head()"
      ],
      "execution_count": 96,
      "outputs": [
        {
          "output_type": "execute_result",
          "data": {
            "text/html": [
              "<div>\n",
              "<style scoped>\n",
              "    .dataframe tbody tr th:only-of-type {\n",
              "        vertical-align: middle;\n",
              "    }\n",
              "\n",
              "    .dataframe tbody tr th {\n",
              "        vertical-align: top;\n",
              "    }\n",
              "\n",
              "    .dataframe thead th {\n",
              "        text-align: right;\n",
              "    }\n",
              "</style>\n",
              "<table border=\"1\" class=\"dataframe\">\n",
              "  <thead>\n",
              "    <tr style=\"text-align: right;\">\n",
              "      <th></th>\n",
              "      <th>bpm</th>\n",
              "      <th>energy</th>\n",
              "      <th>danceability</th>\n",
              "      <th>loudness</th>\n",
              "      <th>live</th>\n",
              "      <th>valence</th>\n",
              "      <th>length</th>\n",
              "      <th>acousticness</th>\n",
              "      <th>speechiness</th>\n",
              "    </tr>\n",
              "  </thead>\n",
              "  <tbody>\n",
              "    <tr>\n",
              "      <th>0</th>\n",
              "      <td>0.331288</td>\n",
              "      <td>0.904255</td>\n",
              "      <td>0.594595</td>\n",
              "      <td>0.846154</td>\n",
              "      <td>0.083333</td>\n",
              "      <td>0.808511</td>\n",
              "      <td>0.286207</td>\n",
              "      <td>0.191919</td>\n",
              "      <td>0.022222</td>\n",
              "    </tr>\n",
              "    <tr>\n",
              "      <th>1</th>\n",
              "      <td>0.269939</td>\n",
              "      <td>0.946809</td>\n",
              "      <td>0.702703</td>\n",
              "      <td>0.769231</td>\n",
              "      <td>0.694444</td>\n",
              "      <td>0.638298</td>\n",
              "      <td>0.444828</td>\n",
              "      <td>0.242424</td>\n",
              "      <td>0.444444</td>\n",
              "    </tr>\n",
              "    <tr>\n",
              "      <th>2</th>\n",
              "      <td>0.472393</td>\n",
              "      <td>0.851064</td>\n",
              "      <td>0.716216</td>\n",
              "      <td>0.923077</td>\n",
              "      <td>0.375000</td>\n",
              "      <td>0.712766</td>\n",
              "      <td>0.227586</td>\n",
              "      <td>0.101010</td>\n",
              "      <td>0.244444</td>\n",
              "    </tr>\n",
              "    <tr>\n",
              "      <th>3</th>\n",
              "      <td>0.466258</td>\n",
              "      <td>0.936170</td>\n",
              "      <td>0.635135</td>\n",
              "      <td>0.846154</td>\n",
              "      <td>0.083333</td>\n",
              "      <td>0.712766</td>\n",
              "      <td>0.555172</td>\n",
              "      <td>0.000000</td>\n",
              "      <td>0.022222</td>\n",
              "    </tr>\n",
              "    <tr>\n",
              "      <th>4</th>\n",
              "      <td>0.404908</td>\n",
              "      <td>0.851064</td>\n",
              "      <td>0.554054</td>\n",
              "      <td>0.769231</td>\n",
              "      <td>0.097222</td>\n",
              "      <td>0.414894</td>\n",
              "      <td>0.300000</td>\n",
              "      <td>0.020202</td>\n",
              "      <td>0.022222</td>\n",
              "    </tr>\n",
              "  </tbody>\n",
              "</table>\n",
              "</div>"
            ],
            "text/plain": [
              "        bpm    energy  danceability  ...    length  acousticness  speechiness\n",
              "0  0.331288  0.904255      0.594595  ...  0.286207      0.191919     0.022222\n",
              "1  0.269939  0.946809      0.702703  ...  0.444828      0.242424     0.444444\n",
              "2  0.472393  0.851064      0.716216  ...  0.227586      0.101010     0.244444\n",
              "3  0.466258  0.936170      0.635135  ...  0.555172      0.000000     0.022222\n",
              "4  0.404908  0.851064      0.554054  ...  0.300000      0.020202     0.022222\n",
              "\n",
              "[5 rows x 9 columns]"
            ]
          },
          "metadata": {
            "tags": []
          },
          "execution_count": 96
        }
      ]
    },
    {
      "cell_type": "code",
      "metadata": {
        "id": "ga86TVceC7nd",
        "colab_type": "code",
        "colab": {
          "base_uri": "https://localhost:8080/",
          "height": 127
        },
        "outputId": "77cd7adb-9379-4692-c046-df067828f87d"
      },
      "source": [
        "y = data.popularity\n",
        "y.head()"
      ],
      "execution_count": 97,
      "outputs": [
        {
          "output_type": "execute_result",
          "data": {
            "text/plain": [
              "0    0.826087\n",
              "1    0.815217\n",
              "2    0.793478\n",
              "3    0.782609\n",
              "4    0.771739\n",
              "Name: popularity, dtype: float64"
            ]
          },
          "metadata": {
            "tags": []
          },
          "execution_count": 97
        }
      ]
    },
    {
      "cell_type": "code",
      "metadata": {
        "id": "PLiqqoZsDPOT",
        "colab_type": "code",
        "colab": {}
      },
      "source": [
        "X_train, X_test, y_train, y_test = train_test_split(X, y, test_size=0.2, random_state=0)"
      ],
      "execution_count": 98,
      "outputs": []
    },
    {
      "cell_type": "markdown",
      "metadata": {
        "id": "nNkheW5nDpmb",
        "colab_type": "text"
      },
      "source": [
        "Regressão Linear"
      ]
    },
    {
      "cell_type": "code",
      "metadata": {
        "id": "PbKSSgdFDPJG",
        "colab_type": "code",
        "colab": {}
      },
      "source": [
        "linear = LinearRegression()\n",
        "linear.fit(X_train, y_train)\n",
        "linear_predictions = linear.predict(X_test)"
      ],
      "execution_count": 99,
      "outputs": []
    },
    {
      "cell_type": "code",
      "metadata": {
        "id": "O4lGak-wDzQ3",
        "colab_type": "code",
        "colab": {
          "base_uri": "https://localhost:8080/",
          "height": 281
        },
        "outputId": "03e62f6c-145d-4f9b-fd53-f2ab7ef8c069"
      },
      "source": [
        "plt.plot(y_test.reset_index(drop=True), label='real')\n",
        "plt.plot(linear_predictions, label='linear')\n",
        "plt.legend()\n",
        "plt.title('previsão - linear regression')\n",
        "plt.show()"
      ],
      "execution_count": 100,
      "outputs": [
        {
          "output_type": "display_data",
          "data": {
            "image/png": "[encoded data removed]",
            "text/plain": [
              "<Figure size 432x288 with 1 Axes>"
            ]
          },
          "metadata": {
            "tags": [],
            "needs_background": "light"
          }
        }
      ]
    },
    {
      "cell_type": "markdown",
      "metadata": {
        "id": "Z3LVSoqxEOvo",
        "colab_type": "text"
      },
      "source": [
        "Embora o valor previsto esteja longe do real, a regressão conseguiu acertar a tedência em vários pontos. Quando o valor real é muito alto/baixo, a regressão tem os piores resultados. "
      ]
    },
    {
      "cell_type": "markdown",
      "metadata": {
        "id": "m9F6feA_Gouh",
        "colab_type": "text"
      },
      "source": [
        "Árvore de Decisão"
      ]
    },
    {
      "cell_type": "code",
      "metadata": {
        "id": "rnudFofTDzOs",
        "colab_type": "code",
        "colab": {}
      },
      "source": [
        "tree = DecisionTreeRegressor()\n",
        "tree.fit(X_train, y_train)\n",
        "tree_predictions = tree.predict(X_test)"
      ],
      "execution_count": 101,
      "outputs": []
    },
    {
      "cell_type": "code",
      "metadata": {
        "id": "5-bLAmOsDzNE",
        "colab_type": "code",
        "colab": {
          "base_uri": "https://localhost:8080/",
          "height": 281
        },
        "outputId": "3dea709f-7a3d-40ce-bbd0-14dd72be1ca9"
      },
      "source": [
        "plt.plot(y_test.reset_index(drop=True), label='real')\n",
        "plt.plot(tree_predictions, label='árvore')\n",
        "plt.legend()\n",
        "plt.title('previsão - árvore de decisão')\n",
        "plt.show()"
      ],
      "execution_count": 102,
      "outputs": [
        {
          "output_type": "display_data",
          "data": {
            "image/png": "[encoded data removed]",
            "text/plain": [
              "<Figure size 432x288 with 1 Axes>"
            ]
          },
          "metadata": {
            "tags": [],
            "needs_background": "light"
          }
        }
      ]
    },
    {
      "cell_type": "markdown",
      "metadata": {
        "id": "QGE9KoIeFV8l",
        "colab_type": "text"
      },
      "source": [
        "A árvore, diferente da regressão linear, preveu valores mais extremos, porém errados na maioria dos casos."
      ]
    },
    {
      "cell_type": "markdown",
      "metadata": {
        "id": "uFWX5I6jGqXL",
        "colab_type": "text"
      },
      "source": [
        "Floresta Aleatória"
      ]
    },
    {
      "cell_type": "code",
      "metadata": {
        "id": "wecOLOs8DzKN",
        "colab_type": "code",
        "colab": {}
      },
      "source": [
        "forest = RandomForestRegressor(n_estimators=100)\n",
        "forest.fit(X_train, y_train)\n",
        "forest_predictions = forest.predict(X_test)"
      ],
      "execution_count": 103,
      "outputs": []
    },
    {
      "cell_type": "code",
      "metadata": {
        "id": "BXCiv0p0DzH0",
        "colab_type": "code",
        "colab": {
          "base_uri": "https://localhost:8080/",
          "height": 281
        },
        "outputId": "385ca72d-69cc-479b-9165-59a147e0b177"
      },
      "source": [
        "plt.plot(y_test.reset_index(drop=True), label='real')\n",
        "plt.plot(forest_predictions, label='floresta')\n",
        "plt.legend()\n",
        "plt.title('previsão - floresta')\n",
        "plt.show()"
      ],
      "execution_count": 104,
      "outputs": [
        {
          "output_type": "display_data",
          "data": {
            "image/png": "[encoded data removed]",
            "text/plain": [
              "<Figure size 432x288 with 1 Axes>"
            ]
          },
          "metadata": {
            "tags": [],
            "needs_background": "light"
          }
        }
      ]
    },
    {
      "cell_type": "markdown",
      "metadata": {
        "id": "ye5m8EPZGVRk",
        "colab_type": "text"
      },
      "source": [
        "A floresta se comportou de forma parecida a regressão linear."
      ]
    },
    {
      "cell_type": "markdown",
      "metadata": {
        "id": "i8Tw86VuHgnC",
        "colab_type": "text"
      },
      "source": [
        "MLP"
      ]
    },
    {
      "cell_type": "code",
      "metadata": {
        "id": "4GGHcsDhHiJ8",
        "colab_type": "code",
        "colab": {}
      },
      "source": [
        "mlp = MLPRegressor(hidden_layer_sizes=(200,50), activation='relu', max_iter=1000)\n",
        "mlp.fit(X_train, y_train)\n",
        "mlp_predictions = mlp.predict(X_test)"
      ],
      "execution_count": 105,
      "outputs": []
    },
    {
      "cell_type": "code",
      "metadata": {
        "id": "0bWu19myHiHW",
        "colab_type": "code",
        "colab": {
          "base_uri": "https://localhost:8080/",
          "height": 281
        },
        "outputId": "26e9d9fb-aed6-4da9-8c4b-25b7a9998b44"
      },
      "source": [
        "plt.plot(y_test.reset_index(drop=True), label='real')\n",
        "plt.plot(mlp_predictions, label='MLP')\n",
        "plt.legend()\n",
        "plt.title('previsão - MLP')\n",
        "plt.show()"
      ],
      "execution_count": 106,
      "outputs": [
        {
          "output_type": "display_data",
          "data": {
            "image/png": "[encoded data removed]",
            "text/plain": [
              "<Figure size 432x288 with 1 Axes>"
            ]
          },
          "metadata": {
            "tags": [],
            "needs_background": "light"
          }
        }
      ]
    },
    {
      "cell_type": "markdown",
      "metadata": {
        "id": "qNoZ4eiZIJwi",
        "colab_type": "text"
      },
      "source": [
        "Novamente, resultados parecidos ao obtidos com regressão linear e a floresta."
      ]
    },
    {
      "cell_type": "markdown",
      "metadata": {
        "id": "YDnfs6QdGt6K",
        "colab_type": "text"
      },
      "source": [
        "#Avaliação"
      ]
    },
    {
      "cell_type": "markdown",
      "metadata": {
        "id": "FCL04roLG4m3",
        "colab_type": "text"
      },
      "source": [
        "Mean Absolute Error"
      ]
    },
    {
      "cell_type": "code",
      "metadata": {
        "id": "g7QSDIdEGQCL",
        "colab_type": "code",
        "colab": {}
      },
      "source": [
        "from sklearn.metrics import mean_absolute_error"
      ],
      "execution_count": 107,
      "outputs": []
    },
    {
      "cell_type": "code",
      "metadata": {
        "id": "49c-Z-pBGP_k",
        "colab_type": "code",
        "colab": {
          "base_uri": "https://localhost:8080/",
          "height": 35
        },
        "outputId": "c29775dd-9684-4139-f9a0-668d46d25e2f"
      },
      "source": [
        "mean_absolute_error(y_test, linear_predictions)"
      ],
      "execution_count": 108,
      "outputs": [
        {
          "output_type": "execute_result",
          "data": {
            "text/plain": [
              "0.10438707615737516"
            ]
          },
          "metadata": {
            "tags": []
          },
          "execution_count": 108
        }
      ]
    },
    {
      "cell_type": "code",
      "metadata": {
        "id": "LQKgcyR_GP85",
        "colab_type": "code",
        "colab": {
          "base_uri": "https://localhost:8080/",
          "height": 35
        },
        "outputId": "a111ae7f-b092-4ea6-f913-cdea3e0e0ebd"
      },
      "source": [
        "mean_absolute_error(y_test, tree_predictions)"
      ],
      "execution_count": 109,
      "outputs": [
        {
          "output_type": "execute_result",
          "data": {
            "text/plain": [
              "0.13971920289855072"
            ]
          },
          "metadata": {
            "tags": []
          },
          "execution_count": 109
        }
      ]
    },
    {
      "cell_type": "code",
      "metadata": {
        "id": "BaAfkb2xGPz0",
        "colab_type": "code",
        "colab": {
          "base_uri": "https://localhost:8080/",
          "height": 35
        },
        "outputId": "288f49b5-7fe5-45d8-c775-c9546d44d0f6"
      },
      "source": [
        "mean_absolute_error(y_test, forest_predictions)"
      ],
      "execution_count": 110,
      "outputs": [
        {
          "output_type": "execute_result",
          "data": {
            "text/plain": [
              "0.1080226449275363"
            ]
          },
          "metadata": {
            "tags": []
          },
          "execution_count": 110
        }
      ]
    },
    {
      "cell_type": "code",
      "metadata": {
        "id": "WxfnyUfyIurw",
        "colab_type": "code",
        "colab": {
          "base_uri": "https://localhost:8080/",
          "height": 35
        },
        "outputId": "cb0dd3e8-022c-4dd6-b726-ce0879b052ed"
      },
      "source": [
        "mean_absolute_error(y_test, mlp_predictions)"
      ],
      "execution_count": 111,
      "outputs": [
        {
          "output_type": "execute_result",
          "data": {
            "text/plain": [
              "0.10197825856227576"
            ]
          },
          "metadata": {
            "tags": []
          },
          "execution_count": 111
        }
      ]
    },
    {
      "cell_type": "markdown",
      "metadata": {
        "id": "xR6N7IJoHLWQ",
        "colab_type": "text"
      },
      "source": [
        "Mean Squared Error "
      ]
    },
    {
      "cell_type": "code",
      "metadata": {
        "id": "G1LmshX9HMpB",
        "colab_type": "code",
        "colab": {}
      },
      "source": [
        "from sklearn.metrics import mean_squared_error"
      ],
      "execution_count": 112,
      "outputs": []
    },
    {
      "cell_type": "code",
      "metadata": {
        "id": "c4gSYgqaHNJg",
        "colab_type": "code",
        "colab": {
          "base_uri": "https://localhost:8080/",
          "height": 35
        },
        "outputId": "a8f50958-2edf-44e9-8a8e-7404389c6469"
      },
      "source": [
        "mean_squared_error(y_test, linear_predictions)"
      ],
      "execution_count": 113,
      "outputs": [
        {
          "output_type": "execute_result",
          "data": {
            "text/plain": [
              "0.017754705973426477"
            ]
          },
          "metadata": {
            "tags": []
          },
          "execution_count": 113
        }
      ]
    },
    {
      "cell_type": "code",
      "metadata": {
        "id": "RkWBFOHyHNHF",
        "colab_type": "code",
        "colab": {
          "base_uri": "https://localhost:8080/",
          "height": 35
        },
        "outputId": "654e6223-30c5-4522-896d-a064f6feeaa9"
      },
      "source": [
        "mean_squared_error(y_test, tree_predictions)"
      ],
      "execution_count": 114,
      "outputs": [
        {
          "output_type": "execute_result",
          "data": {
            "text/plain": [
              "0.03403655678954001"
            ]
          },
          "metadata": {
            "tags": []
          },
          "execution_count": 114
        }
      ]
    },
    {
      "cell_type": "code",
      "metadata": {
        "id": "i0e3-AyBHNE6",
        "colab_type": "code",
        "colab": {
          "base_uri": "https://localhost:8080/",
          "height": 35
        },
        "outputId": "1a5722f2-60a7-4c04-8fea-e0c027f7cc68"
      },
      "source": [
        "mean_squared_error(y_test, forest_predictions)"
      ],
      "execution_count": 115,
      "outputs": [
        {
          "output_type": "execute_result",
          "data": {
            "text/plain": [
              "0.019879616070022064"
            ]
          },
          "metadata": {
            "tags": []
          },
          "execution_count": 115
        }
      ]
    },
    {
      "cell_type": "code",
      "metadata": {
        "id": "zHdXfHZ7HM-v",
        "colab_type": "code",
        "colab": {
          "base_uri": "https://localhost:8080/",
          "height": 35
        },
        "outputId": "a146dd16-4a0b-4900-cd1d-b7649e59c1c2"
      },
      "source": [
        "mean_squared_error(y_test, mlp_predictions)"
      ],
      "execution_count": 116,
      "outputs": [
        {
          "output_type": "execute_result",
          "data": {
            "text/plain": [
              "0.017516918874873773"
            ]
          },
          "metadata": {
            "tags": []
          },
          "execution_count": 116
        }
      ]
    },
    {
      "cell_type": "markdown",
      "metadata": {
        "id": "_YpURIFbJOzl",
        "colab_type": "text"
      },
      "source": [
        "Root Mean Squared Error"
      ]
    },
    {
      "cell_type": "code",
      "metadata": {
        "id": "vV8IYzOMJRsx",
        "colab_type": "code",
        "colab": {
          "base_uri": "https://localhost:8080/",
          "height": 35
        },
        "outputId": "aee776c7-a74f-4e22-bf1e-44ec98e01844"
      },
      "source": [
        "mean_squared_error(y_test, linear_predictions)**(1/2)"
      ],
      "execution_count": 117,
      "outputs": [
        {
          "output_type": "execute_result",
          "data": {
            "text/plain": [
              "0.13324678597784817"
            ]
          },
          "metadata": {
            "tags": []
          },
          "execution_count": 117
        }
      ]
    },
    {
      "cell_type": "code",
      "metadata": {
        "id": "gUhQGsr7JRnq",
        "colab_type": "code",
        "colab": {
          "base_uri": "https://localhost:8080/",
          "height": 35
        },
        "outputId": "108bd168-d302-457d-ffaf-1916dad9c4d4"
      },
      "source": [
        "mean_squared_error(y_test, tree_predictions)**(1/2)"
      ],
      "execution_count": 118,
      "outputs": [
        {
          "output_type": "execute_result",
          "data": {
            "text/plain": [
              "0.18448999102807723"
            ]
          },
          "metadata": {
            "tags": []
          },
          "execution_count": 118
        }
      ]
    },
    {
      "cell_type": "code",
      "metadata": {
        "id": "LmA6tLQJJReD",
        "colab_type": "code",
        "colab": {
          "base_uri": "https://localhost:8080/",
          "height": 35
        },
        "outputId": "f07dc8c5-b272-44b0-c4cd-0c51dc7ccf52"
      },
      "source": [
        "mean_squared_error(y_test, forest_predictions)**(1/2)"
      ],
      "execution_count": 119,
      "outputs": [
        {
          "output_type": "execute_result",
          "data": {
            "text/plain": [
              "0.14099509236147925"
            ]
          },
          "metadata": {
            "tags": []
          },
          "execution_count": 119
        }
      ]
    },
    {
      "cell_type": "code",
      "metadata": {
        "id": "JCM1tc-GJRXp",
        "colab_type": "code",
        "colab": {
          "base_uri": "https://localhost:8080/",
          "height": 35
        },
        "outputId": "a29315f6-b955-41a7-e5d7-c8c5b08aa50c"
      },
      "source": [
        "mean_squared_error(y_test, mlp_predictions)**(1/2)"
      ],
      "execution_count": 120,
      "outputs": [
        {
          "output_type": "execute_result",
          "data": {
            "text/plain": [
              "0.13235149744099525"
            ]
          },
          "metadata": {
            "tags": []
          },
          "execution_count": 120
        }
      ]
    },
    {
      "cell_type": "markdown",
      "metadata": {
        "id": "SW_2fVmaKeoV",
        "colab_type": "text"
      },
      "source": [
        "Mean Absolute Percentage Error"
      ]
    },
    {
      "cell_type": "code",
      "metadata": {
        "id": "ruharrC9KeKy",
        "colab_type": "code",
        "colab": {}
      },
      "source": [
        "def mape(y_test, y_pred):\n",
        "  y_test = y_test.values\n",
        "  error = 0\n",
        "  for i in range(len(y_test)):\n",
        "    error += abs(y_test[i]-y_pred[i])/y_test[i]\n",
        "  return error/len(y_test)"
      ],
      "execution_count": 121,
      "outputs": []
    },
    {
      "cell_type": "code",
      "metadata": {
        "id": "FInZARBhKeCe",
        "colab_type": "code",
        "colab": {
          "base_uri": "https://localhost:8080/",
          "height": 35
        },
        "outputId": "aef3e187-4fce-458f-dc91-59b7d1800e23"
      },
      "source": [
        "mape(y_test, linear_predictions)"
      ],
      "execution_count": 122,
      "outputs": [
        {
          "output_type": "execute_result",
          "data": {
            "text/plain": [
              "0.1900055177733522"
            ]
          },
          "metadata": {
            "tags": []
          },
          "execution_count": 122
        }
      ]
    },
    {
      "cell_type": "code",
      "metadata": {
        "id": "TqCcypOeKd_N",
        "colab_type": "code",
        "colab": {
          "base_uri": "https://localhost:8080/",
          "height": 35
        },
        "outputId": "fb7a21ca-20cf-4155-8fc5-e8b8e79e8707"
      },
      "source": [
        "mape(y_test, tree_predictions)"
      ],
      "execution_count": 123,
      "outputs": [
        {
          "output_type": "execute_result",
          "data": {
            "text/plain": [
              "0.24244205621770784"
            ]
          },
          "metadata": {
            "tags": []
          },
          "execution_count": 123
        }
      ]
    },
    {
      "cell_type": "code",
      "metadata": {
        "id": "YNyub-bvKd8u",
        "colab_type": "code",
        "colab": {
          "base_uri": "https://localhost:8080/",
          "height": 35
        },
        "outputId": "b74271b1-5310-4127-a38c-87561fa6d6e3"
      },
      "source": [
        "mape(y_test, forest_predictions)"
      ],
      "execution_count": 124,
      "outputs": [
        {
          "output_type": "execute_result",
          "data": {
            "text/plain": [
              "0.19605930541765723"
            ]
          },
          "metadata": {
            "tags": []
          },
          "execution_count": 124
        }
      ]
    },
    {
      "cell_type": "code",
      "metadata": {
        "id": "RtoT7FYmKd1v",
        "colab_type": "code",
        "colab": {
          "base_uri": "https://localhost:8080/",
          "height": 35
        },
        "outputId": "083b3a03-f90a-43f9-9bc1-442f5c9e2bea"
      },
      "source": [
        "mape(y_test, mlp_predictions)"
      ],
      "execution_count": 125,
      "outputs": [
        {
          "output_type": "execute_result",
          "data": {
            "text/plain": [
              "0.1886724653339707"
            ]
          },
          "metadata": {
            "tags": []
          },
          "execution_count": 125
        }
      ]
    },
    {
      "cell_type": "markdown",
      "metadata": {
        "id": "SLXc8ZveJfYp",
        "colab_type": "text"
      },
      "source": [
        "Em todas as métricas, a regressão linear, a floresta e a MLP tiveram erros similares. Enquanto a árvore sempre teve os piores resultados."
      ]
    }
  ]
}