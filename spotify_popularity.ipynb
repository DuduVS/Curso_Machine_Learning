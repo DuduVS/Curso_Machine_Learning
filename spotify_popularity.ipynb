{
  "nbformat": 4,
  "nbformat_minor": 0,
  "metadata": {
    "colab": {
      "name": "spotify_popularity.ipynb",
      "provenance": [],
      "collapsed_sections": [],
      "authorship_tag": "ABX9TyPFpLXmHt2716Lmcj/CsGZA",
      "include_colab_link": true
    },
    "kernelspec": {
      "name": "python3",
      "display_name": "Python 3"
    }
  },
  "cells": [
    {
      "cell_type": "markdown",
      "metadata": {
        "id": "view-in-github",
        "colab_type": "text"
      },
      "source": [
        "<a href=\"https://colab.research.google.com/github/DuduVS/Curso_Machine_Learning/blob/master/spotify_popularity.ipynb\" target=\"_parent\"><img src=\"https://colab.research.google.com/assets/colab-badge.svg\" alt=\"Open In Colab\"/></a>"
      ]
    },
    {
      "cell_type": "code",
      "metadata": {
        "id": "lwdVxr5L4ofT",
        "colab_type": "code",
        "colab": {
          "base_uri": "https://localhost:8080/",
          "height": 129
        },
        "outputId": "5e488f6e-7b70-43f1-f041-18b693e7dbf0"
      },
      "source": [
        "from google.colab import drive\n",
        "drive.mount('/content/drive/')"
      ],
      "execution_count": null,
      "outputs": [
        {
          "output_type": "stream",
          "text": [
            "Go to this URL in a browser: https://accounts.google.com/o/oauth2/auth?client_id=947318989803-6bn6qk8qdgf4n4g3pfee6491hc0brc4i.apps.googleusercontent.com&redirect_uri=urn%3aietf%3awg%3aoauth%3a2.0%3aoob&scope=email%20https%3a%2f%2fwww.googleapis.com%2fauth%2fdocs.test%20https%3a%2f%2fwww.googleapis.com%2fauth%2fdrive%20https%3a%2f%2fwww.googleapis.com%2fauth%2fdrive.photos.readonly%20https%3a%2f%2fwww.googleapis.com%2fauth%2fpeopleapi.readonly&response_type=code\n",
            "\n",
            "Enter your authorization code:\n",
            "··········\n",
            "Mounted at /content/drive/\n"
          ],
          "name": "stdout"
        }
      ]
    },
    {
      "cell_type": "code",
      "metadata": {
        "id": "J92Trk3l4tKC",
        "colab_type": "code",
        "colab": {
          "base_uri": "https://localhost:8080/",
          "height": 54
        },
        "outputId": "366ec0d5-a4b4-4369-f1f0-887bb4554e8e"
      },
      "source": [
        "import numpy as np\n",
        "import pandas as pd\n",
        "import matplotlib.pyplot as plt\n",
        "import seaborn as sns"
      ],
      "execution_count": null,
      "outputs": [
        {
          "output_type": "stream",
          "text": [
            "/usr/local/lib/python3.6/dist-packages/statsmodels/tools/_testing.py:19: FutureWarning: pandas.util.testing is deprecated. Use the functions in the public API at pandas.testing instead.\n",
            "  import pandas.util.testing as tm\n"
          ],
          "name": "stderr"
        }
      ]
    },
    {
      "cell_type": "markdown",
      "metadata": {
        "id": "NhkhEZ6_OfRf",
        "colab_type": "text"
      },
      "source": [
        "# Dataset"
      ]
    },
    {
      "cell_type": "code",
      "metadata": {
        "id": "c_RlRtJ24tHo",
        "colab_type": "code",
        "colab": {}
      },
      "source": [
        "data = pd.read_csv('/content/drive/My Drive/Curso - ML/datasets/top10s.csv', encoding='ISO-8859-1')"
      ],
      "execution_count": 120,
      "outputs": []
    },
    {
      "cell_type": "markdown",
      "metadata": {
        "id": "FUiXSBcKvOdO",
        "colab_type": "text"
      },
      "source": [
        "Source: https://www.kaggle.com/leonardopena/top-spotify-songs-from-20102019-by-year\n",
        "\n",
        "Dataset: top songs do spotify de 2010-2019.\n",
        "\n",
        "Objetivo: tentar entender quais características afetam a popularidade de uma música.\n",
        "\n",
        "\n",
        "Sobre o dataset:\n",
        "\n",
        "    Genre - the genre of the track\n",
        "    Year - the release year of the recording.\n",
        "    Added - the earliest date you added the track to your collection.\n",
        "    Beats Per Minute (BPM) - The tempo of the song.\n",
        "    Energy - The energy of a song - the higher the value, the more energtic the song.\n",
        "    Danceability - The higher the value, the easier it is to dance to this song.\n",
        "    Loudness (dB) - The higher the value, the louder the song.\n",
        "    Liveness - The higher the value, the more likely the song is a live recording.\n",
        "    Valence - The higher the value, the more positive mood for the song.\n",
        "    Length - The duration of the song.\n",
        "    Acousticness - The higher the value the more acoustic the song is.\n",
        "    Speechiness - The higher the value the more spoken word the song contains.\n",
        "    Popularity - The higher the value the more popular the song is.\n",
        "    Duration - The length of the song.\n",
        "\n"
      ]
    },
    {
      "cell_type": "code",
      "metadata": {
        "id": "flmztNv_Lexn",
        "colab_type": "code",
        "colab": {
          "base_uri": "https://localhost:8080/",
          "height": 421
        },
        "outputId": "7471912a-71ea-4670-f778-44b9d302ca70"
      },
      "source": [
        "data.info()"
      ],
      "execution_count": 121,
      "outputs": [
        {
          "output_type": "stream",
          "text": [
            "<class 'pandas.core.frame.DataFrame'>\n",
            "RangeIndex: 603 entries, 0 to 602\n",
            "Data columns (total 15 columns):\n",
            " #   Column      Non-Null Count  Dtype \n",
            "---  ------      --------------  ----- \n",
            " 0   Unnamed: 0  603 non-null    int64 \n",
            " 1   title       603 non-null    object\n",
            " 2   artist      603 non-null    object\n",
            " 3   top genre   603 non-null    object\n",
            " 4   year        603 non-null    int64 \n",
            " 5   bpm         603 non-null    int64 \n",
            " 6   nrgy        603 non-null    int64 \n",
            " 7   dnce        603 non-null    int64 \n",
            " 8   dB          603 non-null    int64 \n",
            " 9   live        603 non-null    int64 \n",
            " 10  val         603 non-null    int64 \n",
            " 11  dur         603 non-null    int64 \n",
            " 12  acous       603 non-null    int64 \n",
            " 13  spch        603 non-null    int64 \n",
            " 14  pop         603 non-null    int64 \n",
            "dtypes: int64(12), object(3)\n",
            "memory usage: 70.8+ KB\n"
          ],
          "name": "stdout"
        }
      ]
    },
    {
      "cell_type": "markdown",
      "metadata": {
        "id": "RnEw5sjJK51H",
        "colab_type": "text"
      },
      "source": [
        "# Pré-análise"
      ]
    },
    {
      "cell_type": "markdown",
      "metadata": {
        "id": "6d7xm78FMGd9",
        "colab_type": "text"
      },
      "source": [
        "Renomeação dos atributos."
      ]
    },
    {
      "cell_type": "code",
      "metadata": {
        "id": "j2pQbqqh5QWG",
        "colab_type": "code",
        "colab": {}
      },
      "source": [
        "data.rename(columns={'Unnamed: 0': 'id', 'top genre':'genre', 'nrgy':'energy', 'dnce':'danceability', \n",
        "                     'dB':'loudness', 'val':'valence', 'dur':'length', 'acous':'acousticness',\n",
        "                     'spch':'speechiness','pop':'popularity'}, inplace=True)"
      ],
      "execution_count": 124,
      "outputs": []
    },
    {
      "cell_type": "code",
      "metadata": {
        "id": "5J7zUZHU4tF3",
        "colab_type": "code",
        "colab": {
          "base_uri": "https://localhost:8080/",
          "height": 363
        },
        "outputId": "d86b07ba-71b9-461e-d676-e7361560d893"
      },
      "source": [
        "data.head(10)"
      ],
      "execution_count": 125,
      "outputs": [
        {
          "output_type": "execute_result",
          "data": {
            "text/html": [
              "<div>\n",
              "<style scoped>\n",
              "    .dataframe tbody tr th:only-of-type {\n",
              "        vertical-align: middle;\n",
              "    }\n",
              "\n",
              "    .dataframe tbody tr th {\n",
              "        vertical-align: top;\n",
              "    }\n",
              "\n",
              "    .dataframe thead th {\n",
              "        text-align: right;\n",
              "    }\n",
              "</style>\n",
              "<table border=\"1\" class=\"dataframe\">\n",
              "  <thead>\n",
              "    <tr style=\"text-align: right;\">\n",
              "      <th></th>\n",
              "      <th>id</th>\n",
              "      <th>title</th>\n",
              "      <th>artist</th>\n",
              "      <th>genre</th>\n",
              "      <th>year</th>\n",
              "      <th>bpm</th>\n",
              "      <th>energy</th>\n",
              "      <th>danceability</th>\n",
              "      <th>loudness</th>\n",
              "      <th>live</th>\n",
              "      <th>valence</th>\n",
              "      <th>length</th>\n",
              "      <th>acousticness</th>\n",
              "      <th>speechiness</th>\n",
              "      <th>popularity</th>\n",
              "    </tr>\n",
              "  </thead>\n",
              "  <tbody>\n",
              "    <tr>\n",
              "      <th>0</th>\n",
              "      <td>1</td>\n",
              "      <td>Hey, Soul Sister</td>\n",
              "      <td>Train</td>\n",
              "      <td>neo mellow</td>\n",
              "      <td>2010</td>\n",
              "      <td>97</td>\n",
              "      <td>89</td>\n",
              "      <td>67</td>\n",
              "      <td>-4</td>\n",
              "      <td>8</td>\n",
              "      <td>80</td>\n",
              "      <td>217</td>\n",
              "      <td>19</td>\n",
              "      <td>4</td>\n",
              "      <td>83</td>\n",
              "    </tr>\n",
              "    <tr>\n",
              "      <th>1</th>\n",
              "      <td>2</td>\n",
              "      <td>Love The Way You Lie</td>\n",
              "      <td>Eminem</td>\n",
              "      <td>detroit hip hop</td>\n",
              "      <td>2010</td>\n",
              "      <td>87</td>\n",
              "      <td>93</td>\n",
              "      <td>75</td>\n",
              "      <td>-5</td>\n",
              "      <td>52</td>\n",
              "      <td>64</td>\n",
              "      <td>263</td>\n",
              "      <td>24</td>\n",
              "      <td>23</td>\n",
              "      <td>82</td>\n",
              "    </tr>\n",
              "    <tr>\n",
              "      <th>2</th>\n",
              "      <td>3</td>\n",
              "      <td>TiK ToK</td>\n",
              "      <td>Kesha</td>\n",
              "      <td>dance pop</td>\n",
              "      <td>2010</td>\n",
              "      <td>120</td>\n",
              "      <td>84</td>\n",
              "      <td>76</td>\n",
              "      <td>-3</td>\n",
              "      <td>29</td>\n",
              "      <td>71</td>\n",
              "      <td>200</td>\n",
              "      <td>10</td>\n",
              "      <td>14</td>\n",
              "      <td>80</td>\n",
              "    </tr>\n",
              "    <tr>\n",
              "      <th>3</th>\n",
              "      <td>4</td>\n",
              "      <td>Bad Romance</td>\n",
              "      <td>Lady Gaga</td>\n",
              "      <td>dance pop</td>\n",
              "      <td>2010</td>\n",
              "      <td>119</td>\n",
              "      <td>92</td>\n",
              "      <td>70</td>\n",
              "      <td>-4</td>\n",
              "      <td>8</td>\n",
              "      <td>71</td>\n",
              "      <td>295</td>\n",
              "      <td>0</td>\n",
              "      <td>4</td>\n",
              "      <td>79</td>\n",
              "    </tr>\n",
              "    <tr>\n",
              "      <th>4</th>\n",
              "      <td>5</td>\n",
              "      <td>Just the Way You Are</td>\n",
              "      <td>Bruno Mars</td>\n",
              "      <td>pop</td>\n",
              "      <td>2010</td>\n",
              "      <td>109</td>\n",
              "      <td>84</td>\n",
              "      <td>64</td>\n",
              "      <td>-5</td>\n",
              "      <td>9</td>\n",
              "      <td>43</td>\n",
              "      <td>221</td>\n",
              "      <td>2</td>\n",
              "      <td>4</td>\n",
              "      <td>78</td>\n",
              "    </tr>\n",
              "    <tr>\n",
              "      <th>5</th>\n",
              "      <td>6</td>\n",
              "      <td>Baby</td>\n",
              "      <td>Justin Bieber</td>\n",
              "      <td>canadian pop</td>\n",
              "      <td>2010</td>\n",
              "      <td>65</td>\n",
              "      <td>86</td>\n",
              "      <td>73</td>\n",
              "      <td>-5</td>\n",
              "      <td>11</td>\n",
              "      <td>54</td>\n",
              "      <td>214</td>\n",
              "      <td>4</td>\n",
              "      <td>14</td>\n",
              "      <td>77</td>\n",
              "    </tr>\n",
              "    <tr>\n",
              "      <th>6</th>\n",
              "      <td>7</td>\n",
              "      <td>Dynamite</td>\n",
              "      <td>Taio Cruz</td>\n",
              "      <td>dance pop</td>\n",
              "      <td>2010</td>\n",
              "      <td>120</td>\n",
              "      <td>78</td>\n",
              "      <td>75</td>\n",
              "      <td>-4</td>\n",
              "      <td>4</td>\n",
              "      <td>82</td>\n",
              "      <td>203</td>\n",
              "      <td>0</td>\n",
              "      <td>9</td>\n",
              "      <td>77</td>\n",
              "    </tr>\n",
              "    <tr>\n",
              "      <th>7</th>\n",
              "      <td>8</td>\n",
              "      <td>Secrets</td>\n",
              "      <td>OneRepublic</td>\n",
              "      <td>dance pop</td>\n",
              "      <td>2010</td>\n",
              "      <td>148</td>\n",
              "      <td>76</td>\n",
              "      <td>52</td>\n",
              "      <td>-6</td>\n",
              "      <td>12</td>\n",
              "      <td>38</td>\n",
              "      <td>225</td>\n",
              "      <td>7</td>\n",
              "      <td>4</td>\n",
              "      <td>77</td>\n",
              "    </tr>\n",
              "    <tr>\n",
              "      <th>8</th>\n",
              "      <td>9</td>\n",
              "      <td>Empire State of Mind (Part II) Broken Down</td>\n",
              "      <td>Alicia Keys</td>\n",
              "      <td>hip pop</td>\n",
              "      <td>2010</td>\n",
              "      <td>93</td>\n",
              "      <td>37</td>\n",
              "      <td>48</td>\n",
              "      <td>-8</td>\n",
              "      <td>12</td>\n",
              "      <td>14</td>\n",
              "      <td>216</td>\n",
              "      <td>74</td>\n",
              "      <td>3</td>\n",
              "      <td>76</td>\n",
              "    </tr>\n",
              "    <tr>\n",
              "      <th>9</th>\n",
              "      <td>10</td>\n",
              "      <td>Only Girl (In The World)</td>\n",
              "      <td>Rihanna</td>\n",
              "      <td>barbadian pop</td>\n",
              "      <td>2010</td>\n",
              "      <td>126</td>\n",
              "      <td>72</td>\n",
              "      <td>79</td>\n",
              "      <td>-4</td>\n",
              "      <td>7</td>\n",
              "      <td>61</td>\n",
              "      <td>235</td>\n",
              "      <td>13</td>\n",
              "      <td>4</td>\n",
              "      <td>73</td>\n",
              "    </tr>\n",
              "  </tbody>\n",
              "</table>\n",
              "</div>"
            ],
            "text/plain": [
              "   id                                       title  ... speechiness popularity\n",
              "0   1                            Hey, Soul Sister  ...           4         83\n",
              "1   2                        Love The Way You Lie  ...          23         82\n",
              "2   3                                     TiK ToK  ...          14         80\n",
              "3   4                                 Bad Romance  ...           4         79\n",
              "4   5                        Just the Way You Are  ...           4         78\n",
              "5   6                                        Baby  ...          14         77\n",
              "6   7                                    Dynamite  ...           9         77\n",
              "7   8                                     Secrets  ...           4         77\n",
              "8   9  Empire State of Mind (Part II) Broken Down  ...           3         76\n",
              "9  10                    Only Girl (In The World)  ...           4         73\n",
              "\n",
              "[10 rows x 15 columns]"
            ]
          },
          "metadata": {
            "tags": []
          },
          "execution_count": 125
        }
      ]
    },
    {
      "cell_type": "code",
      "metadata": {
        "id": "7U_APF4H4tDd",
        "colab_type": "code",
        "colab": {}
      },
      "source": [
        "data = data.dropna()"
      ],
      "execution_count": 126,
      "outputs": []
    },
    {
      "cell_type": "markdown",
      "metadata": {
        "id": "XmPcREIZMNaO",
        "colab_type": "text"
      },
      "source": [
        "Alguma observações."
      ]
    },
    {
      "cell_type": "code",
      "metadata": {
        "id": "0dxt1Y1P2C5V",
        "colab_type": "code",
        "colab": {
          "base_uri": "https://localhost:8080/",
          "height": 219
        },
        "outputId": "d8b69007-a703-4de5-9a32-1573ad1d37b0"
      },
      "source": [
        "data['genre'].value_counts().head(10)"
      ],
      "execution_count": 127,
      "outputs": [
        {
          "output_type": "execute_result",
          "data": {
            "text/plain": [
              "dance pop                    327\n",
              "pop                           60\n",
              "canadian pop                  34\n",
              "barbadian pop                 15\n",
              "boy band                      15\n",
              "electropop                    13\n",
              "british soul                  11\n",
              "big room                      10\n",
              "neo mellow                     9\n",
              "canadian contemporary r&b      9\n",
              "Name: genre, dtype: int64"
            ]
          },
          "metadata": {
            "tags": []
          },
          "execution_count": 127
        }
      ]
    },
    {
      "cell_type": "markdown",
      "metadata": {
        "id": "Ga79LpDc2OLU",
        "colab_type": "text"
      },
      "source": [
        "Pop, especialmente dance pop, é de longe o gênero mais popular. "
      ]
    },
    {
      "cell_type": "code",
      "metadata": {
        "id": "u5V0gg3zKHv0",
        "colab_type": "code",
        "colab": {
          "base_uri": "https://localhost:8080/",
          "height": 219
        },
        "outputId": "118c8ca2-dfa2-4906-c1b4-91398b97c309"
      },
      "source": [
        "data['artist'].value_counts().head(10)"
      ],
      "execution_count": 128,
      "outputs": [
        {
          "output_type": "execute_result",
          "data": {
            "text/plain": [
              "Katy Perry          17\n",
              "Justin Bieber       16\n",
              "Rihanna             15\n",
              "Maroon 5            15\n",
              "Lady Gaga           14\n",
              "Bruno Mars          13\n",
              "Ed Sheeran          11\n",
              "The Chainsmokers    11\n",
              "Pitbull             11\n",
              "Shawn Mendes        11\n",
              "Name: artist, dtype: int64"
            ]
          },
          "metadata": {
            "tags": []
          },
          "execution_count": 128
        }
      ]
    },
    {
      "cell_type": "markdown",
      "metadata": {
        "id": "ECA5Z6jgKM1L",
        "colab_type": "text"
      },
      "source": [
        "Katy Perry possui o maior número de músicas no top."
      ]
    },
    {
      "cell_type": "markdown",
      "metadata": {
        "id": "jZvD4J97LPwC",
        "colab_type": "text"
      },
      "source": [
        "# Pré-processamento"
      ]
    },
    {
      "cell_type": "markdown",
      "metadata": {
        "id": "50Y4kamULkxS",
        "colab_type": "text"
      },
      "source": [
        "Remoção de atributos categóricos. "
      ]
    },
    {
      "cell_type": "code",
      "metadata": {
        "id": "409AadXb4s9z",
        "colab_type": "code",
        "colab": {}
      },
      "source": [
        "data = data.drop(columns=['id', 'title', 'artist', 'year', 'genre'])"
      ],
      "execution_count": 129,
      "outputs": []
    },
    {
      "cell_type": "code",
      "metadata": {
        "id": "RCdbmqqG4s8j",
        "colab_type": "code",
        "colab": {
          "base_uri": "https://localhost:8080/",
          "height": 363
        },
        "outputId": "7fe759eb-3f65-4a15-acb6-ea9432e52840"
      },
      "source": [
        "data.head(10)"
      ],
      "execution_count": 130,
      "outputs": [
        {
          "output_type": "execute_result",
          "data": {
            "text/html": [
              "<div>\n",
              "<style scoped>\n",
              "    .dataframe tbody tr th:only-of-type {\n",
              "        vertical-align: middle;\n",
              "    }\n",
              "\n",
              "    .dataframe tbody tr th {\n",
              "        vertical-align: top;\n",
              "    }\n",
              "\n",
              "    .dataframe thead th {\n",
              "        text-align: right;\n",
              "    }\n",
              "</style>\n",
              "<table border=\"1\" class=\"dataframe\">\n",
              "  <thead>\n",
              "    <tr style=\"text-align: right;\">\n",
              "      <th></th>\n",
              "      <th>bpm</th>\n",
              "      <th>energy</th>\n",
              "      <th>danceability</th>\n",
              "      <th>loudness</th>\n",
              "      <th>live</th>\n",
              "      <th>valence</th>\n",
              "      <th>length</th>\n",
              "      <th>acousticness</th>\n",
              "      <th>speechiness</th>\n",
              "      <th>popularity</th>\n",
              "    </tr>\n",
              "  </thead>\n",
              "  <tbody>\n",
              "    <tr>\n",
              "      <th>0</th>\n",
              "      <td>97</td>\n",
              "      <td>89</td>\n",
              "      <td>67</td>\n",
              "      <td>-4</td>\n",
              "      <td>8</td>\n",
              "      <td>80</td>\n",
              "      <td>217</td>\n",
              "      <td>19</td>\n",
              "      <td>4</td>\n",
              "      <td>83</td>\n",
              "    </tr>\n",
              "    <tr>\n",
              "      <th>1</th>\n",
              "      <td>87</td>\n",
              "      <td>93</td>\n",
              "      <td>75</td>\n",
              "      <td>-5</td>\n",
              "      <td>52</td>\n",
              "      <td>64</td>\n",
              "      <td>263</td>\n",
              "      <td>24</td>\n",
              "      <td>23</td>\n",
              "      <td>82</td>\n",
              "    </tr>\n",
              "    <tr>\n",
              "      <th>2</th>\n",
              "      <td>120</td>\n",
              "      <td>84</td>\n",
              "      <td>76</td>\n",
              "      <td>-3</td>\n",
              "      <td>29</td>\n",
              "      <td>71</td>\n",
              "      <td>200</td>\n",
              "      <td>10</td>\n",
              "      <td>14</td>\n",
              "      <td>80</td>\n",
              "    </tr>\n",
              "    <tr>\n",
              "      <th>3</th>\n",
              "      <td>119</td>\n",
              "      <td>92</td>\n",
              "      <td>70</td>\n",
              "      <td>-4</td>\n",
              "      <td>8</td>\n",
              "      <td>71</td>\n",
              "      <td>295</td>\n",
              "      <td>0</td>\n",
              "      <td>4</td>\n",
              "      <td>79</td>\n",
              "    </tr>\n",
              "    <tr>\n",
              "      <th>4</th>\n",
              "      <td>109</td>\n",
              "      <td>84</td>\n",
              "      <td>64</td>\n",
              "      <td>-5</td>\n",
              "      <td>9</td>\n",
              "      <td>43</td>\n",
              "      <td>221</td>\n",
              "      <td>2</td>\n",
              "      <td>4</td>\n",
              "      <td>78</td>\n",
              "    </tr>\n",
              "    <tr>\n",
              "      <th>5</th>\n",
              "      <td>65</td>\n",
              "      <td>86</td>\n",
              "      <td>73</td>\n",
              "      <td>-5</td>\n",
              "      <td>11</td>\n",
              "      <td>54</td>\n",
              "      <td>214</td>\n",
              "      <td>4</td>\n",
              "      <td>14</td>\n",
              "      <td>77</td>\n",
              "    </tr>\n",
              "    <tr>\n",
              "      <th>6</th>\n",
              "      <td>120</td>\n",
              "      <td>78</td>\n",
              "      <td>75</td>\n",
              "      <td>-4</td>\n",
              "      <td>4</td>\n",
              "      <td>82</td>\n",
              "      <td>203</td>\n",
              "      <td>0</td>\n",
              "      <td>9</td>\n",
              "      <td>77</td>\n",
              "    </tr>\n",
              "    <tr>\n",
              "      <th>7</th>\n",
              "      <td>148</td>\n",
              "      <td>76</td>\n",
              "      <td>52</td>\n",
              "      <td>-6</td>\n",
              "      <td>12</td>\n",
              "      <td>38</td>\n",
              "      <td>225</td>\n",
              "      <td>7</td>\n",
              "      <td>4</td>\n",
              "      <td>77</td>\n",
              "    </tr>\n",
              "    <tr>\n",
              "      <th>8</th>\n",
              "      <td>93</td>\n",
              "      <td>37</td>\n",
              "      <td>48</td>\n",
              "      <td>-8</td>\n",
              "      <td>12</td>\n",
              "      <td>14</td>\n",
              "      <td>216</td>\n",
              "      <td>74</td>\n",
              "      <td>3</td>\n",
              "      <td>76</td>\n",
              "    </tr>\n",
              "    <tr>\n",
              "      <th>9</th>\n",
              "      <td>126</td>\n",
              "      <td>72</td>\n",
              "      <td>79</td>\n",
              "      <td>-4</td>\n",
              "      <td>7</td>\n",
              "      <td>61</td>\n",
              "      <td>235</td>\n",
              "      <td>13</td>\n",
              "      <td>4</td>\n",
              "      <td>73</td>\n",
              "    </tr>\n",
              "  </tbody>\n",
              "</table>\n",
              "</div>"
            ],
            "text/plain": [
              "   bpm  energy  danceability  ...  acousticness  speechiness  popularity\n",
              "0   97      89            67  ...            19            4          83\n",
              "1   87      93            75  ...            24           23          82\n",
              "2  120      84            76  ...            10           14          80\n",
              "3  119      92            70  ...             0            4          79\n",
              "4  109      84            64  ...             2            4          78\n",
              "5   65      86            73  ...             4           14          77\n",
              "6  120      78            75  ...             0            9          77\n",
              "7  148      76            52  ...             7            4          77\n",
              "8   93      37            48  ...            74            3          76\n",
              "9  126      72            79  ...            13            4          73\n",
              "\n",
              "[10 rows x 10 columns]"
            ]
          },
          "metadata": {
            "tags": []
          },
          "execution_count": 130
        }
      ]
    },
    {
      "cell_type": "markdown",
      "metadata": {
        "id": "g3OqI489MY-N",
        "colab_type": "text"
      },
      "source": [
        "# Análise"
      ]
    },
    {
      "cell_type": "code",
      "metadata": {
        "id": "9I6Ao7NqN_wi",
        "colab_type": "code",
        "colab": {
          "base_uri": "https://localhost:8080/",
          "height": 300
        },
        "outputId": "d341be99-7712-45ef-c42f-3d054409bb09"
      },
      "source": [
        "data.describe()"
      ],
      "execution_count": 131,
      "outputs": [
        {
          "output_type": "execute_result",
          "data": {
            "text/html": [
              "<div>\n",
              "<style scoped>\n",
              "    .dataframe tbody tr th:only-of-type {\n",
              "        vertical-align: middle;\n",
              "    }\n",
              "\n",
              "    .dataframe tbody tr th {\n",
              "        vertical-align: top;\n",
              "    }\n",
              "\n",
              "    .dataframe thead th {\n",
              "        text-align: right;\n",
              "    }\n",
              "</style>\n",
              "<table border=\"1\" class=\"dataframe\">\n",
              "  <thead>\n",
              "    <tr style=\"text-align: right;\">\n",
              "      <th></th>\n",
              "      <th>bpm</th>\n",
              "      <th>energy</th>\n",
              "      <th>danceability</th>\n",
              "      <th>loudness</th>\n",
              "      <th>live</th>\n",
              "      <th>valence</th>\n",
              "      <th>length</th>\n",
              "      <th>acousticness</th>\n",
              "      <th>speechiness</th>\n",
              "      <th>popularity</th>\n",
              "    </tr>\n",
              "  </thead>\n",
              "  <tbody>\n",
              "    <tr>\n",
              "      <th>count</th>\n",
              "      <td>603.000000</td>\n",
              "      <td>603.000000</td>\n",
              "      <td>603.000000</td>\n",
              "      <td>603.000000</td>\n",
              "      <td>603.000000</td>\n",
              "      <td>603.000000</td>\n",
              "      <td>603.000000</td>\n",
              "      <td>603.000000</td>\n",
              "      <td>603.000000</td>\n",
              "      <td>603.000000</td>\n",
              "    </tr>\n",
              "    <tr>\n",
              "      <th>mean</th>\n",
              "      <td>118.545605</td>\n",
              "      <td>70.504146</td>\n",
              "      <td>64.379768</td>\n",
              "      <td>-5.578773</td>\n",
              "      <td>17.774461</td>\n",
              "      <td>52.225539</td>\n",
              "      <td>224.674959</td>\n",
              "      <td>14.326700</td>\n",
              "      <td>8.358209</td>\n",
              "      <td>66.520730</td>\n",
              "    </tr>\n",
              "    <tr>\n",
              "      <th>std</th>\n",
              "      <td>24.795358</td>\n",
              "      <td>16.310664</td>\n",
              "      <td>13.378718</td>\n",
              "      <td>2.798020</td>\n",
              "      <td>13.102543</td>\n",
              "      <td>22.513020</td>\n",
              "      <td>34.130059</td>\n",
              "      <td>20.766165</td>\n",
              "      <td>7.483162</td>\n",
              "      <td>14.517746</td>\n",
              "    </tr>\n",
              "    <tr>\n",
              "      <th>min</th>\n",
              "      <td>0.000000</td>\n",
              "      <td>0.000000</td>\n",
              "      <td>0.000000</td>\n",
              "      <td>-60.000000</td>\n",
              "      <td>0.000000</td>\n",
              "      <td>0.000000</td>\n",
              "      <td>134.000000</td>\n",
              "      <td>0.000000</td>\n",
              "      <td>0.000000</td>\n",
              "      <td>0.000000</td>\n",
              "    </tr>\n",
              "    <tr>\n",
              "      <th>25%</th>\n",
              "      <td>100.000000</td>\n",
              "      <td>61.000000</td>\n",
              "      <td>57.000000</td>\n",
              "      <td>-6.000000</td>\n",
              "      <td>9.000000</td>\n",
              "      <td>35.000000</td>\n",
              "      <td>202.000000</td>\n",
              "      <td>2.000000</td>\n",
              "      <td>4.000000</td>\n",
              "      <td>60.000000</td>\n",
              "    </tr>\n",
              "    <tr>\n",
              "      <th>50%</th>\n",
              "      <td>120.000000</td>\n",
              "      <td>74.000000</td>\n",
              "      <td>66.000000</td>\n",
              "      <td>-5.000000</td>\n",
              "      <td>12.000000</td>\n",
              "      <td>52.000000</td>\n",
              "      <td>221.000000</td>\n",
              "      <td>6.000000</td>\n",
              "      <td>5.000000</td>\n",
              "      <td>69.000000</td>\n",
              "    </tr>\n",
              "    <tr>\n",
              "      <th>75%</th>\n",
              "      <td>129.000000</td>\n",
              "      <td>82.000000</td>\n",
              "      <td>73.000000</td>\n",
              "      <td>-4.000000</td>\n",
              "      <td>24.000000</td>\n",
              "      <td>69.000000</td>\n",
              "      <td>239.500000</td>\n",
              "      <td>17.000000</td>\n",
              "      <td>9.000000</td>\n",
              "      <td>76.000000</td>\n",
              "    </tr>\n",
              "    <tr>\n",
              "      <th>max</th>\n",
              "      <td>206.000000</td>\n",
              "      <td>98.000000</td>\n",
              "      <td>97.000000</td>\n",
              "      <td>-2.000000</td>\n",
              "      <td>74.000000</td>\n",
              "      <td>98.000000</td>\n",
              "      <td>424.000000</td>\n",
              "      <td>99.000000</td>\n",
              "      <td>48.000000</td>\n",
              "      <td>99.000000</td>\n",
              "    </tr>\n",
              "  </tbody>\n",
              "</table>\n",
              "</div>"
            ],
            "text/plain": [
              "              bpm      energy  ...  speechiness  popularity\n",
              "count  603.000000  603.000000  ...   603.000000  603.000000\n",
              "mean   118.545605   70.504146  ...     8.358209   66.520730\n",
              "std     24.795358   16.310664  ...     7.483162   14.517746\n",
              "min      0.000000    0.000000  ...     0.000000    0.000000\n",
              "25%    100.000000   61.000000  ...     4.000000   60.000000\n",
              "50%    120.000000   74.000000  ...     5.000000   69.000000\n",
              "75%    129.000000   82.000000  ...     9.000000   76.000000\n",
              "max    206.000000   98.000000  ...    48.000000   99.000000\n",
              "\n",
              "[8 rows x 10 columns]"
            ]
          },
          "metadata": {
            "tags": []
          },
          "execution_count": 131
        }
      ]
    },
    {
      "cell_type": "code",
      "metadata": {
        "id": "3Ku0ZYNwReQW",
        "colab_type": "code",
        "colab": {
          "base_uri": "https://localhost:8080/",
          "height": 458
        },
        "outputId": "1a91c174-8c9b-494f-f44f-7fadbf860dcd"
      },
      "source": [
        "fig = plt.figure(figsize=(10, 7))\n",
        "sns.distplot(data.popularity, hist=False, rug=False)\n",
        "plt.ylabel('Probabilidades')\n",
        "plt.grid(True)\n",
        "plt.title('Popularidade')\n",
        "plt.show()"
      ],
      "execution_count": 139,
      "outputs": [
        {
          "output_type": "display_data",
          "data": {
            "image/png": "[encoded data removed]",
            "text/plain": [
              "<Figure size 720x504 with 1 Axes>"
            ]
          },
          "metadata": {
            "tags": [],
            "needs_background": "light"
          }
        }
      ]
    },
    {
      "cell_type": "code",
      "metadata": {
        "id": "wZowRRMWRt8t",
        "colab_type": "code",
        "colab": {
          "base_uri": "https://localhost:8080/",
          "height": 458
        },
        "outputId": "5e2445a7-bef6-436c-e41a-d6196e0b23b1"
      },
      "source": [
        "fig = plt.figure(figsize=(10, 7))\n",
        "sns.distplot(data.energy, hist=False, rug=False)\n",
        "plt.ylabel('Probabilidades')\n",
        "plt.grid(True)\n",
        "plt.title('Energia')\n",
        "plt.show()"
      ],
      "execution_count": 140,
      "outputs": [
        {
          "output_type": "display_data",
          "data": {
            "image/png": "[encoded data removed]",
            "text/plain": [
              "<Figure size 720x504 with 1 Axes>"
            ]
          },
          "metadata": {
            "tags": [],
            "needs_background": "light"
          }
        }
      ]
    },
    {
      "cell_type": "markdown",
      "metadata": {
        "id": "K0pxMl5sTVEZ",
        "colab_type": "text"
      },
      "source": [
        "A energia geralmente é alta."
      ]
    },
    {
      "cell_type": "code",
      "metadata": {
        "id": "JxTk7yGx4s4G",
        "colab_type": "code",
        "colab": {
          "base_uri": "https://localhost:8080/",
          "height": 444
        },
        "outputId": "46eb48ec-86c3-4c27-deee-ce350ad3c7f0"
      },
      "source": [
        "fig = plt.figure(figsize=(10, 7))\n",
        "data.boxplot()\n",
        "plt.title('Boxplot Completo')\n",
        "plt.show()"
      ],
      "execution_count": 115,
      "outputs": [
        {
          "output_type": "display_data",
          "data": {
            "image/png": "[encoded data removed]",
            "text/plain": [
              "<Figure size 720x504 with 1 Axes>"
            ]
          },
          "metadata": {
            "tags": [],
            "needs_background": "light"
          }
        }
      ]
    },
    {
      "cell_type": "markdown",
      "metadata": {
        "id": "mULtlynFT0bq",
        "colab_type": "text"
      },
      "source": [
        "Os outliers tendem a ficar apenas ou no mínimo ou no máximo."
      ]
    },
    {
      "cell_type": "code",
      "metadata": {
        "id": "uJqJhpIJ4syH",
        "colab_type": "code",
        "colab": {
          "base_uri": "https://localhost:8080/",
          "height": 476
        },
        "outputId": "4eab51e2-23c2-4f87-ccb3-09691b291935"
      },
      "source": [
        "fig = plt.figure(figsize=(10, 7))\n",
        "plt.scatter(data.popularity, data.danceability)\n",
        "plt.xlabel('Popularidade')\n",
        "plt.ylabel('Dançabilidade')\n",
        "plt.title('Correlação entre popularidade e dançabilidade')\n",
        "plt.grid(True)\n",
        "plt.show()\n",
        "\n",
        "print(f\"Correlação: {data['popularity'].corr(data['danceability'])}\")"
      ],
      "execution_count": 109,
      "outputs": [
        {
          "output_type": "display_data",
          "data": {
            "image/png": "[encoded data removed]",
            "text/plain": [
              "<Figure size 720x504 with 1 Axes>"
            ]
          },
          "metadata": {
            "tags": [],
            "needs_background": "light"
          }
        },
        {
          "output_type": "stream",
          "text": [
            "Correlação: 0.11605444461442103\n"
          ],
          "name": "stdout"
        }
      ]
    },
    {
      "cell_type": "code",
      "metadata": {
        "id": "sI86zJiG4svx",
        "colab_type": "code",
        "colab": {
          "base_uri": "https://localhost:8080/",
          "height": 476
        },
        "outputId": "bf82e481-324a-408b-bbd4-d4bb3573be24"
      },
      "source": [
        "fig = plt.figure(figsize=(10, 7))\n",
        "plt.scatter(data.popularity, data.length)\n",
        "plt.xlabel('Popularidade')\n",
        "plt.ylabel('Duração')\n",
        "plt.title('Correlação entre popularidade e duração')\n",
        "plt.grid(True)\n",
        "plt.show()\n",
        "\n",
        "print(f\"Correlação: {data['popularity'].corr(data['length'])}\")"
      ],
      "execution_count": 110,
      "outputs": [
        {
          "output_type": "display_data",
          "data": {
            "image/png": "[encoded data removed]",
            "text/plain": [
              "<Figure size 720x504 with 1 Axes>"
            ]
          },
          "metadata": {
            "tags": [],
            "needs_background": "light"
          }
        },
        {
          "output_type": "stream",
          "text": [
            "Correlação: -0.10436275315485516\n"
          ],
          "name": "stdout"
        }
      ]
    },
    {
      "cell_type": "code",
      "metadata": {
        "id": "4lY8W_VQ-CmS",
        "colab_type": "code",
        "colab": {}
      },
      "source": [
        "corr = data.corr()"
      ],
      "execution_count": 94,
      "outputs": []
    },
    {
      "cell_type": "code",
      "metadata": {
        "id": "sUzUEK6Z_qAr",
        "colab_type": "code",
        "colab": {
          "base_uri": "https://localhost:8080/",
          "height": 363
        },
        "outputId": "12c7379f-aced-4201-fbb8-fd1b10d1b332"
      },
      "source": [
        "corr"
      ],
      "execution_count": 95,
      "outputs": [
        {
          "output_type": "execute_result",
          "data": {
            "text/html": [
              "<div>\n",
              "<style scoped>\n",
              "    .dataframe tbody tr th:only-of-type {\n",
              "        vertical-align: middle;\n",
              "    }\n",
              "\n",
              "    .dataframe tbody tr th {\n",
              "        vertical-align: top;\n",
              "    }\n",
              "\n",
              "    .dataframe thead th {\n",
              "        text-align: right;\n",
              "    }\n",
              "</style>\n",
              "<table border=\"1\" class=\"dataframe\">\n",
              "  <thead>\n",
              "    <tr style=\"text-align: right;\">\n",
              "      <th></th>\n",
              "      <th>bpm</th>\n",
              "      <th>energy</th>\n",
              "      <th>danceability</th>\n",
              "      <th>loudness</th>\n",
              "      <th>live</th>\n",
              "      <th>valence</th>\n",
              "      <th>length</th>\n",
              "      <th>acousticness</th>\n",
              "      <th>speechiness</th>\n",
              "      <th>popularity</th>\n",
              "    </tr>\n",
              "  </thead>\n",
              "  <tbody>\n",
              "    <tr>\n",
              "      <th>bpm</th>\n",
              "      <td>1.000000</td>\n",
              "      <td>0.126170</td>\n",
              "      <td>-0.131301</td>\n",
              "      <td>0.183870</td>\n",
              "      <td>0.081579</td>\n",
              "      <td>0.016021</td>\n",
              "      <td>-0.029359</td>\n",
              "      <td>-0.113257</td>\n",
              "      <td>0.058999</td>\n",
              "      <td>0.018983</td>\n",
              "    </tr>\n",
              "    <tr>\n",
              "      <th>energy</th>\n",
              "      <td>0.126170</td>\n",
              "      <td>1.000000</td>\n",
              "      <td>0.167209</td>\n",
              "      <td>0.537528</td>\n",
              "      <td>0.186738</td>\n",
              "      <td>0.409577</td>\n",
              "      <td>-0.143610</td>\n",
              "      <td>-0.562287</td>\n",
              "      <td>0.107313</td>\n",
              "      <td>-0.057645</td>\n",
              "    </tr>\n",
              "    <tr>\n",
              "      <th>danceability</th>\n",
              "      <td>-0.131301</td>\n",
              "      <td>0.167209</td>\n",
              "      <td>1.000000</td>\n",
              "      <td>0.233170</td>\n",
              "      <td>-0.028801</td>\n",
              "      <td>0.501696</td>\n",
              "      <td>-0.176841</td>\n",
              "      <td>-0.240064</td>\n",
              "      <td>-0.028041</td>\n",
              "      <td>0.116054</td>\n",
              "    </tr>\n",
              "    <tr>\n",
              "      <th>loudness</th>\n",
              "      <td>0.183870</td>\n",
              "      <td>0.537528</td>\n",
              "      <td>0.233170</td>\n",
              "      <td>1.000000</td>\n",
              "      <td>0.081934</td>\n",
              "      <td>0.282922</td>\n",
              "      <td>-0.104723</td>\n",
              "      <td>-0.190401</td>\n",
              "      <td>-0.001110</td>\n",
              "      <td>0.156897</td>\n",
              "    </tr>\n",
              "    <tr>\n",
              "      <th>live</th>\n",
              "      <td>0.081579</td>\n",
              "      <td>0.186738</td>\n",
              "      <td>-0.028801</td>\n",
              "      <td>0.081934</td>\n",
              "      <td>1.000000</td>\n",
              "      <td>0.020226</td>\n",
              "      <td>0.098339</td>\n",
              "      <td>-0.098167</td>\n",
              "      <td>0.144103</td>\n",
              "      <td>-0.075749</td>\n",
              "    </tr>\n",
              "    <tr>\n",
              "      <th>valence</th>\n",
              "      <td>0.016021</td>\n",
              "      <td>0.409577</td>\n",
              "      <td>0.501696</td>\n",
              "      <td>0.282922</td>\n",
              "      <td>0.020226</td>\n",
              "      <td>1.000000</td>\n",
              "      <td>-0.262256</td>\n",
              "      <td>-0.249038</td>\n",
              "      <td>0.122013</td>\n",
              "      <td>0.038953</td>\n",
              "    </tr>\n",
              "    <tr>\n",
              "      <th>length</th>\n",
              "      <td>-0.029359</td>\n",
              "      <td>-0.143610</td>\n",
              "      <td>-0.176841</td>\n",
              "      <td>-0.104723</td>\n",
              "      <td>0.098339</td>\n",
              "      <td>-0.262256</td>\n",
              "      <td>1.000000</td>\n",
              "      <td>0.091802</td>\n",
              "      <td>0.054564</td>\n",
              "      <td>-0.104363</td>\n",
              "    </tr>\n",
              "    <tr>\n",
              "      <th>acousticness</th>\n",
              "      <td>-0.113257</td>\n",
              "      <td>-0.562287</td>\n",
              "      <td>-0.240064</td>\n",
              "      <td>-0.190401</td>\n",
              "      <td>-0.098167</td>\n",
              "      <td>-0.249038</td>\n",
              "      <td>0.091802</td>\n",
              "      <td>1.000000</td>\n",
              "      <td>0.002763</td>\n",
              "      <td>0.026704</td>\n",
              "    </tr>\n",
              "    <tr>\n",
              "      <th>speechiness</th>\n",
              "      <td>0.058999</td>\n",
              "      <td>0.107313</td>\n",
              "      <td>-0.028041</td>\n",
              "      <td>-0.001110</td>\n",
              "      <td>0.144103</td>\n",
              "      <td>0.122013</td>\n",
              "      <td>0.054564</td>\n",
              "      <td>0.002763</td>\n",
              "      <td>1.000000</td>\n",
              "      <td>-0.041490</td>\n",
              "    </tr>\n",
              "    <tr>\n",
              "      <th>popularity</th>\n",
              "      <td>0.018983</td>\n",
              "      <td>-0.057645</td>\n",
              "      <td>0.116054</td>\n",
              "      <td>0.156897</td>\n",
              "      <td>-0.075749</td>\n",
              "      <td>0.038953</td>\n",
              "      <td>-0.104363</td>\n",
              "      <td>0.026704</td>\n",
              "      <td>-0.041490</td>\n",
              "      <td>1.000000</td>\n",
              "    </tr>\n",
              "  </tbody>\n",
              "</table>\n",
              "</div>"
            ],
            "text/plain": [
              "                   bpm    energy  ...  speechiness  popularity\n",
              "bpm           1.000000  0.126170  ...     0.058999    0.018983\n",
              "energy        0.126170  1.000000  ...     0.107313   -0.057645\n",
              "danceability -0.131301  0.167209  ...    -0.028041    0.116054\n",
              "loudness      0.183870  0.537528  ...    -0.001110    0.156897\n",
              "live          0.081579  0.186738  ...     0.144103   -0.075749\n",
              "valence       0.016021  0.409577  ...     0.122013    0.038953\n",
              "length       -0.029359 -0.143610  ...     0.054564   -0.104363\n",
              "acousticness -0.113257 -0.562287  ...     0.002763    0.026704\n",
              "speechiness   0.058999  0.107313  ...     1.000000   -0.041490\n",
              "popularity    0.018983 -0.057645  ...    -0.041490    1.000000\n",
              "\n",
              "[10 rows x 10 columns]"
            ]
          },
          "metadata": {
            "tags": []
          },
          "execution_count": 95
        }
      ]
    },
    {
      "cell_type": "code",
      "metadata": {
        "id": "dih_0yuf_p-O",
        "colab_type": "code",
        "colab": {
          "base_uri": "https://localhost:8080/",
          "height": 614
        },
        "outputId": "abc015e5-af70-4fa6-d938-f1008611e2c7"
      },
      "source": [
        "fig = plt.figure(figsize=(15, 10))\n",
        "sns.heatmap(corr, vmin=-1, vmax=1, center=0, cmap=sns.diverging_palette(20, 220, n=200))"
      ],
      "execution_count": 105,
      "outputs": [
        {
          "output_type": "execute_result",
          "data": {
            "text/plain": [
              "<matplotlib.axes._subplots.AxesSubplot at 0x7f07afc350f0>"
            ]
          },
          "metadata": {
            "tags": []
          },
          "execution_count": 105
        },
        {
          "output_type": "display_data",
          "data": {
            "image/png": "[encoded data removed]",
            "text/plain": [
              "<Figure size 1080x720 with 2 Axes>"
            ]
          },
          "metadata": {
            "tags": [],
            "needs_background": "light"
          }
        }
      ]
    },
    {
      "cell_type": "markdown",
      "metadata": {
        "id": "CabnRnBsBo3l",
        "colab_type": "text"
      },
      "source": [
        "Observações sobre as correlacões dos atributos entre si e com a popularidade:\n",
        "\n",
        "A energia da música tem considerável correlação positiva com a volume e com a positividade, e correlação negativa com a acusticidade. A dançabilidade também aumenta conforme a positividade.\n",
        "\n",
        "Poucos atributos afetam diretamente a popularidade, porém pode-se observar que as músicas mais populares tendem a ser mais curtas e serem mais altas/\"dançáveis\".\n",
        "\n",
        "Provavelmente seja necessário mais dados para a construção de um bom modelo.\n",
        "\n",
        "\n"
      ]
    }
  ]
}